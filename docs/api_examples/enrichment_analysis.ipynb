{
 "cells": [
  {
   "cell_type": "markdown",
   "id": "f79a8051",
   "metadata": {
    "lines_to_next_cell": 2
   },
   "source": [
    "# Enrichment analysis\n",
    "\n",
    "- we need some groups of genes to compute clusters\n",
    "- we need functional annotations, i.e. a category summarizing a set of genes.\n",
    "-\n",
    "You can start with watching Lars Juhl Jensen's brief introduction to enrichment analysis\n",
    "on [youtube](https://www.youtube.com/watch?v=2NC1QOXmc5o).\n",
    "\n",
    "Use example data for ovarian cancer\n",
    "([PXD010372](https://github.com/Multiomics-Analytics-Group/acore/tree/main/example_data/PXD010372))"
   ]
  },
  {
   "cell_type": "code",
   "execution_count": null,
   "id": "956ed7b7",
   "metadata": {
    "lines_to_next_cell": 2,
    "tags": [
     "hide-output"
    ]
   },
   "outputs": [],
   "source": [
    "%pip install acore vuecore"
   ]
  },
  {
   "cell_type": "code",
   "execution_count": null,
   "id": "a3030d08",
   "metadata": {},
   "outputs": [],
   "source": [
    "from pathlib import Path\n",
    "\n",
    "import dsp_pandas\n",
    "import pandas as pd\n",
    "\n",
    "import acore\n",
    "import acore.differential_regulation\n",
    "import acore.enrichment_analysis\n",
    "from acore.io.uniprot import fetch_annotations\n",
    "\n",
    "dsp_pandas.format.set_pandas_options(max_colwidth=15)"
   ]
  },
  {
   "cell_type": "markdown",
   "id": "fddd607c",
   "metadata": {},
   "source": [
    "Parameters of this notebook"
   ]
  },
  {
   "cell_type": "code",
   "execution_count": null,
   "id": "6af9349a",
   "metadata": {
    "tags": [
     "parameters"
    ]
   },
   "outputs": [],
   "source": [
    "base_path: str = (\n",
    "    \"https://raw.githubusercontent.com/Multiomics-Analytics-Group/acore/refs/heads/main/\"\n",
    "    \"example_data/PXD010372/processed\"\n",
    ")\n",
    "omics: str = f\"{base_path}/omics.csv\"\n",
    "meta_pgs: str = f\"{base_path}/meta_pgs.csv\"\n",
    "meta: str = f\"{base_path}/meta_patients.csv\"\n",
    "features_to_sample: int = 100"
   ]
  },
  {
   "cell_type": "markdown",
   "id": "10ed1830",
   "metadata": {},
   "source": [
    "# Load processed data"
   ]
  },
  {
   "cell_type": "code",
   "execution_count": null,
   "id": "8d70ef4c",
   "metadata": {},
   "outputs": [],
   "source": [
    "df_omics = pd.read_csv(omics, index_col=0)\n",
    "df_meta_pgs = pd.read_csv(meta_pgs, index_col=0)\n",
    "df_meta = pd.read_csv(meta, index_col=0)\n",
    "df_omics"
   ]
  },
  {
   "cell_type": "code",
   "execution_count": null,
   "id": "b3897e1f",
   "metadata": {},
   "outputs": [],
   "source": [
    "df_omics.notna().sum().sort_values(ascending=True).plot()"
   ]
  },
  {
   "cell_type": "markdown",
   "id": "8ce47108",
   "metadata": {},
   "source": [
    "Keep only features with a certain amount of non-NaN values and select 100 of these\n",
    "for illustration. Add the ones which were differently regulated in the ANOVA using all\n",
    "the protein groups."
   ]
  },
  {
   "cell_type": "code",
   "execution_count": null,
   "id": "f3a8ab49",
   "metadata": {},
   "outputs": [],
   "source": [
    "idx_always_included = [\"Q5HYN5\", \"P39059\", \"O43432\", \"O43175\"]\n",
    "df_omics[idx_always_included]"
   ]
  },
  {
   "cell_type": "code",
   "execution_count": null,
   "id": "1145a2cd",
   "metadata": {
    "lines_to_next_cell": 2,
    "tags": [
     "hide-input"
    ]
   },
   "outputs": [],
   "source": [
    "df_omics = (\n",
    "    df_omics\n",
    "    # .dropna(axis=1)\n",
    "    .drop(idx_always_included, axis=1)\n",
    "    .dropna(thresh=18, axis=1)\n",
    "    .sample(\n",
    "        features_to_sample - len(idx_always_included),\n",
    "        axis=1,\n",
    "        random_state=42,\n",
    "    )\n",
    "    .join(df_omics[idx_always_included])\n",
    ")\n",
    "df_omics"
   ]
  },
  {
   "cell_type": "code",
   "execution_count": null,
   "id": "aea77e80",
   "metadata": {
    "lines_to_next_cell": 2
   },
   "outputs": [],
   "source": [
    "df_meta"
   ]
  },
  {
   "cell_type": "markdown",
   "id": "4bbf5dc4",
   "metadata": {},
   "source": [
    "## Compute up and downregulated genes\n",
    "These will be used to find enrichments in the set of both up and downregulated genes."
   ]
  },
  {
   "cell_type": "code",
   "execution_count": null,
   "id": "231bb6da",
   "metadata": {},
   "outputs": [],
   "source": [
    "group = \"Status\"\n",
    "covariates = [\"PlatinumValue\"]\n",
    "diff_reg = acore.differential_regulation.run_anova(\n",
    "    df_omics.join(df_meta[[group]]),\n",
    "    drop_cols=[],\n",
    "    subject=None,\n",
    "    group=group,\n",
    ")\n",
    "diff_reg.describe(exclude=[\"float\"])"
   ]
  },
  {
   "cell_type": "code",
   "execution_count": null,
   "id": "1e347b06",
   "metadata": {},
   "outputs": [],
   "source": [
    "diff_reg[\"rejected\"] = diff_reg[\"rejected\"].astype(bool)  # ! needs to be fixed in anova\n",
    "diff_reg.query(\"rejected\")"
   ]
  },
  {
   "cell_type": "markdown",
   "id": "d6c0a225",
   "metadata": {},
   "source": [
    "## Find functional annotations, here pathways\n"
   ]
  },
  {
   "cell_type": "code",
   "execution_count": null,
   "id": "d2668415",
   "metadata": {},
   "outputs": [],
   "source": [
    "fname_annotations = f\"downloaded/annotations_{features_to_sample}.csv\"\n",
    "fname = Path(fname_annotations)\n",
    "try:\n",
    "    annotations = pd.read_csv(fname, index_col=0)\n",
    "    print(f\"Loaded annotations from {fname}\")\n",
    "except FileNotFoundError:\n",
    "    print(f\"Fetching annotations for {df_omics.columns.size} UniProt IDs.\")\n",
    "    annotations = fetch_annotations(df_omics.columns)\n",
    "    annotations = (\n",
    "        annotations.set_index(\"Entry\")\n",
    "        .rename_axis(\"identifier\")\n",
    "        .drop(\"From\", axis=1)\n",
    "        .rename_axis(\"source\", axis=1)\n",
    "        .stack()\n",
    "        .to_frame(\"annotation\")\n",
    "        .replace(\"\", pd.NA)\n",
    "        .dropna()\n",
    "        .sort_values([\"source\", \"annotation\"])\n",
    "        .reset_index()\n",
    "    )\n",
    "    fname.parent.mkdir(exist_ok=True, parents=True)\n",
    "    annotations.to_csv(fname, index=True)\n",
    "\n",
    "annotations"
   ]
  },
  {
   "cell_type": "markdown",
   "id": "d4734452",
   "metadata": {},
   "source": [
    "See how many protein groups are associated with each annotation."
   ]
  },
  {
   "cell_type": "code",
   "execution_count": null,
   "id": "57fddefb",
   "metadata": {
    "tags": [
     "hide-input"
    ]
   },
   "outputs": [],
   "source": [
    "_ = (\n",
    "    annotations.groupby(\"annotation\")\n",
    "    .size()\n",
    "    .value_counts()\n",
    "    .sort_index()\n",
    "    .plot(kind=\"bar\")\n",
    ")"
   ]
  },
  {
   "cell_type": "markdown",
   "id": "4165bc94",
   "metadata": {},
   "source": [
    "## Enrichment analysis\n"
   ]
  },
  {
   "cell_type": "code",
   "execution_count": null,
   "id": "f300c5b5",
   "metadata": {},
   "outputs": [],
   "source": [
    "ret = acore.enrichment_analysis.run_regulation_enrichment(\n",
    "    regulation_data=diff_reg,\n",
    "    annotation=annotations,\n",
    "    min_detected_in_set=1,  # ! default is 2, so more conservative\n",
    "    correction_alpha=0.01,\n",
    ")\n",
    "ret"
   ]
  },
  {
   "cell_type": "markdown",
   "id": "834d5a85",
   "metadata": {},
   "source": [
    "### For up- and downregulated genes separately"
   ]
  },
  {
   "cell_type": "code",
   "execution_count": null,
   "id": "1a631495",
   "metadata": {
    "tags": [
     "hide-input"
    ]
   },
   "outputs": [],
   "source": [
    "diff_reg.query(\"rejected\")[\n",
    "    [\n",
    "        \"identifier\",\n",
    "        \"group1\",\n",
    "        \"group2\",\n",
    "        \"pvalue\",\n",
    "        \"padj\",\n",
    "        \"rejected\",\n",
    "        \"log2FC\",\n",
    "        \"FC\",\n",
    "    ]\n",
    "].sort_values(\"log2FC\")"
   ]
  },
  {
   "cell_type": "markdown",
   "id": "7380a528",
   "metadata": {},
   "source": [
    "- this additionally sets a fold change cutoff\n",
    "- and the fore and backgroud populations are changed due to the separation"
   ]
  },
  {
   "cell_type": "code",
   "execution_count": null,
   "id": "2a73ed6e",
   "metadata": {},
   "outputs": [],
   "source": [
    "ret = acore.enrichment_analysis.run_up_down_regulation_enrichment(\n",
    "    regulation_data=diff_reg,\n",
    "    annotation=annotations,\n",
    "    min_detected_in_set=1,  # ! default is 2, so more conservative\n",
    "    lfc_cutoff=1,\n",
    ")\n",
    "ret"
   ]
  },
  {
   "cell_type": "markdown",
   "id": "5cb036be",
   "metadata": {},
   "source": [
    "here we see differences for the same set of differently regulated protein groups,\n",
    "which can be reset using lfc_cutoff=0."
   ]
  },
  {
   "cell_type": "code",
   "execution_count": null,
   "id": "5e5e2b61",
   "metadata": {},
   "outputs": [],
   "source": [
    "ret = acore.enrichment_analysis.run_up_down_regulation_enrichment(\n",
    "    regulation_data=diff_reg,\n",
    "    annotation=annotations,\n",
    "    min_detected_in_set=1,  # ! default is 2, so more conservative\n",
    "    lfc_cutoff=0,\n",
    ")\n",
    "ret"
   ]
  },
  {
   "cell_type": "markdown",
   "id": "ecf75e7c",
   "metadata": {},
   "source": [
    "### Site specific enrichment analysis"
   ]
  },
  {
   "cell_type": "markdown",
   "id": "0ee3a7c8",
   "metadata": {},
   "source": [
    "The basic example uses a modified peptide sequence to\n",
    "demonstrate the enrichment analysis.\n",
    "- compare groups per amino acid modified (kinases targeting certain motifs?)"
   ]
  },
  {
   "cell_type": "code",
   "execution_count": null,
   "id": "88b05e0c",
   "metadata": {},
   "outputs": [],
   "source": [
    "import re\n",
    "\n",
    "regex = \"(\\\\w+~.+)_\\\\w\\\\d+\\\\-\\\\w+\"\n",
    "identifier_ckg = \"gnd~P00350_T10-WW\"\n",
    "match = re.search(regex, identifier_ckg)\n",
    "match.group(1)"
   ]
  },
  {
   "cell_type": "code",
   "execution_count": null,
   "id": "b9e2fddf",
   "metadata": {},
   "outputs": [],
   "source": [
    "seq_mod = \"_AAADQET(ph)DTDPEPQPVVGPDAADHRPTVM(ox)LLGGGALSR\"\n",
    "regex = \"\\(\\w\\w\\)\"\n",
    "matches = re.findall(regex, seq_mod)\n",
    "matches"
   ]
  },
  {
   "cell_type": "code",
   "execution_count": null,
   "id": "7eab37e1",
   "metadata": {},
   "outputs": [],
   "source": [
    "# acore.enrichment_analysis.run_up_down_regulation_enrichment("
   ]
  },
  {
   "cell_type": "markdown",
   "id": "dbc34b7b",
   "metadata": {},
   "source": [
    "## Single sample GSEA (ssGSEA)\n",
    "Run a gene set enrichment analysis (GSEA) for each sample,\n",
    "see [article](https://www.nature.com/articles/nature08460#Sec3) and\n",
    "the package [`gseapy`](https://gseapy.readthedocs.io/en/latest/run.html#gseapy.ssgsea)\n",
    "for more details."
   ]
  },
  {
   "cell_type": "code",
   "execution_count": null,
   "id": "e211bf65",
   "metadata": {},
   "outputs": [],
   "source": [
    "enrichtments = acore.enrichment_analysis.run_ssgsea(\n",
    "    data=df_omics,\n",
    "    annotation=annotations,\n",
    "    min_size=1,\n",
    ")\n",
    "enrichtments"
   ]
  },
  {
   "cell_type": "code",
   "execution_count": null,
   "id": "0fd08e79",
   "metadata": {},
   "outputs": [],
   "source": [
    "enrichtments.iloc[0].to_dict()"
   ]
  },
  {
   "cell_type": "code",
   "execution_count": null,
   "id": "ca9e4908",
   "metadata": {},
   "outputs": [],
   "source": [
    "enrichtments[\"NES\"].plot.hist()"
   ]
  },
  {
   "cell_type": "markdown",
   "id": "6b9a50cc",
   "metadata": {},
   "source": [
    "The normalised enrichment score (NES) can be used in a PCA plot to see if the samples\n",
    "cluster according to the enrichment of the gene sets."
   ]
  },
  {
   "cell_type": "code",
   "execution_count": null,
   "id": "9d917326",
   "metadata": {},
   "outputs": [],
   "source": [
    "nes = enrichtments.set_index(\"Term\", append=True).unstack()[\"NES\"].convert_dtypes()\n",
    "nes"
   ]
  },
  {
   "cell_type": "code",
   "execution_count": null,
   "id": "02dbec64",
   "metadata": {},
   "outputs": [],
   "source": [
    "import acore.exploratory_analysis as ea\n",
    "\n",
    "pca_result, pca_annotation = ea.run_pca(\n",
    "    data=nes.join(df_meta[[group]]),\n",
    "    drop_cols=[],\n",
    "    annotation_cols=[],\n",
    "    group=group,\n",
    "    components=2,\n",
    "    dropna=False,\n",
    ")\n",
    "resultDf, loadings, var_exp = pca_result\n",
    "resultDf"
   ]
  },
  {
   "cell_type": "markdown",
   "id": "acd530d6",
   "metadata": {},
   "source": [
    "The loadings show how the variables are correlated with the principal components."
   ]
  },
  {
   "cell_type": "code",
   "execution_count": null,
   "id": "28464b86",
   "metadata": {},
   "outputs": [],
   "source": [
    "loadings"
   ]
  },
  {
   "cell_type": "markdown",
   "id": "5d0c1eba",
   "metadata": {},
   "source": [
    "We will plot both on the sample plot (samples on the first two principal components and\n",
    "loadings of variables). We use the\n",
    "[`vuecore` package](https://github.com/Multiomics-Analytics-Group/vuecore)\n",
    "for this, which is also developed by the Multiomics Analytics Group."
   ]
  },
  {
   "cell_type": "code",
   "execution_count": null,
   "id": "0c66fcef",
   "metadata": {},
   "outputs": [],
   "source": [
    "from plotly.offline import iplot\n",
    "from vuecore import viz\n",
    "\n",
    "args = {\"factor\": 1, \"loadings\": 10}\n",
    "#! pca_results has three items, but docstring requests only two -> double check\n",
    "figure = viz.get_pca_plot(data=pca_result, identifier=\"PCA enrichment\", args=args)\n",
    "iplot(figure)"
   ]
  },
  {
   "cell_type": "markdown",
   "id": "4be5a8c8",
   "metadata": {},
   "source": [
    "## Compare two distributions - KS test\n",
    "The Kolmogorov-Smirnov test is a non-parametric test that compares two distributions.\n",
    "- we compare the distributions of the two differently upregulated protein groups\n",
    "This is not the best example for comparing distributions, but it shows how to use the\n",
    "KS test."
   ]
  },
  {
   "cell_type": "code",
   "execution_count": null,
   "id": "6dd57b99",
   "metadata": {},
   "outputs": [],
   "source": [
    "# plot two histograms of intensity values here\n",
    "sel_pgs = [\"O43175\", \"P39059\"]\n",
    "view = df_omics[sel_pgs].sub(df_omics[sel_pgs].mean())\n",
    "view.plot.hist(bins=20, alpha=0.5)"
   ]
  },
  {
   "cell_type": "markdown",
   "id": "a480b65b",
   "metadata": {},
   "source": [
    "Let us compare the two centered distributions using the KS test."
   ]
  },
  {
   "cell_type": "code",
   "execution_count": null,
   "id": "e0f8e6a8",
   "metadata": {},
   "outputs": [],
   "source": [
    "acore.enrichment_analysis.run_kolmogorov_smirnov(view[sel_pgs[0]], view[sel_pgs[1]])"
   ]
  },
  {
   "cell_type": "markdown",
   "id": "385b0ceb",
   "metadata": {},
   "source": [
    "The result suggests that the two distributions are from the same distribution."
   ]
  }
 ],
 "metadata": {
  "jupytext": {
   "cell_metadata_filter": "tags,-all",
   "main_language": "python",
   "notebook_metadata_filter": "-all"
  }
 },
 "nbformat": 4,
 "nbformat_minor": 5
}
