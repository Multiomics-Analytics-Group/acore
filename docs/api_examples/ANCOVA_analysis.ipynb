{
 "cells": [
  {
   "cell_type": "markdown",
   "metadata": {},
   "source": [
    "# ANCOVA analysis\n"
   ]
  },
  {
   "cell_type": "markdown",
   "metadata": {},
   "source": [
    "This notebook shows how to use ANCOVA to compare data factoring in one or several covariates based on a proteomics dataset and a corresponding set of clinical metadata."
   ]
  },
  {
   "cell_type": "code",
   "execution_count": null,
   "id": "1b336639",
   "metadata": {
    "tags": [
     "hide-output"
    ]
   },
   "outputs": [],
   "source": [
    "%pip install acore"
   ]
  },
  {
   "cell_type": "code",
   "execution_count": 2,
   "metadata": {
    "tags": [
     "hide-input"
    ]
   },
   "outputs": [],
   "source": [
    "from pathlib import Path\n",
    "\n",
    "import dsp_pandas\n",
    "import numpy as np\n",
    "import pandas as pd\n",
    "\n",
    "import acore.differential_regulation as ad\n",
    "\n",
    "dsp_pandas.format.set_pandas_options(\n",
    "    max_columns=9,\n",
    "    max_colwidth=20,\n",
    ")"
   ]
  },
  {
   "cell_type": "markdown",
   "metadata": {},
   "source": [
    "Here you can specify your data. In this example, we are sourcing from a github-available Alzheimer's Disease dataset. <br>  \n",
    "Here we also define the freq_cutoff, which will be used for filtering later. "
   ]
  },
  {
   "cell_type": "code",
   "execution_count": 3,
   "id": "3b15eca2",
   "metadata": {
    "tags": [
     "parameters"
    ]
   },
   "outputs": [],
   "source": [
    "BASE = (\n",
    "    \"https://raw.githubusercontent.com/RasmussenLab/njab/\"\n",
    "    \"HEAD/docs/tutorial/data/alzheimer/\"\n",
    ")\n",
    "CLINIC: str = \"clinic_ml.csv\"  # clincial data\n",
    "OMICS: str = \"proteome.csv\"  # omics data\n",
    "freq_cutoff: float = (\n",
    "    0.7  # at least x percent of samples must have a value for a feature (here: protein group)\n",
    ")"
   ]
  },
  {
   "cell_type": "markdown",
   "id": "9bc64629",
   "metadata": {},
   "source": [
    "## Load data\n",
    "View your clinical data:"
   ]
  },
  {
   "cell_type": "code",
   "execution_count": null,
   "id": "86536915",
   "metadata": {
    "tags": [
     "hide-input"
    ]
   },
   "outputs": [],
   "source": [
    "clinic = pd.read_csv(f\"{BASE}/{CLINIC}\", index_col=0).convert_dtypes()\n",
    "omics = pd.read_csv(f\"{BASE}/{OMICS}\", index_col=0)\n",
    "clinic"
   ]
  },
  {
   "cell_type": "markdown",
   "metadata": {},
   "source": [
    "View your omics data:"
   ]
  },
  {
   "cell_type": "code",
   "execution_count": null,
   "metadata": {
    "tags": [
     "hide-input"
    ]
   },
   "outputs": [],
   "source": [
    "omics"
   ]
  },
  {
   "cell_type": "markdown",
   "metadata": {},
   "source": [
    "## Filtering data"
   ]
  },
  {
   "cell_type": "markdown",
   "metadata": {},
   "source": [
    "In this step, omics data is filtered based on your previously determined freq_cutoff, which indicates the percentage of values which need to be present for a feature to not be filtered. <br>  \n",
    "Protein group names are also reduced to only display the first protein of the protein group, and intensities are log2-transformed. <br>  \n",
    "If data is already filtered and/or imputed, you can skip this step."
   ]
  },
  {
   "cell_type": "code",
   "execution_count": null,
   "metadata": {
    "tags": [
     "hide-input"
    ]
   },
   "outputs": [],
   "source": [
    "M_before = omics.shape[1]\n",
    "omics = omics.dropna(thresh=int(len(omics) * freq_cutoff), axis=1)\n",
    "M_after = omics.shape[1]\n",
    "msg = (\n",
    "    f\"Removed {M_before-M_after} features \"\n",
    "    f\"with more than {(1-freq_cutoff)*100:.2f}% missing values.\"\n",
    "    f\"\\nRemaining features: {M_after} (of {M_before})\"\n",
    ")\n",
    "print(msg)\n",
    "# keep a map of all proteins in protein group, but only display first protein\n",
    "# proteins are unique to protein groups\n",
    "pg_map = {k: k.split(\";\")[0] for k in omics.columns}\n",
    "omics = omics.rename(columns=pg_map)\n",
    "# log2 transform raw intensity data:\n",
    "omics = np.log2(omics + 1)\n",
    "omics"
   ]
  },
  {
   "cell_type": "markdown",
   "metadata": {},
   "source": [
    "## Preparing metadata\n",
    "Add relevant clinical information to the omics data. In this case, 'AD' is the Alzheimer's Disease status, and gender ('male') and age are covariates of interest."
   ]
  },
  {
   "cell_type": "code",
   "execution_count": null,
   "metadata": {
    "tags": [
     "hide-input"
    ]
   },
   "outputs": [],
   "source": [
    "clinic[[\"age\", \"male\", \"AD\"]].describe()"
   ]
  },
  {
   "cell_type": "code",
   "execution_count": null,
   "metadata": {
    "lines_to_next_cell": 2,
    "tags": [
     "hide-input"
    ]
   },
   "outputs": [],
   "source": [
    "omics_and_clinic = omics.join(clinic[[\"age\", \"male\", \"AD\"]])\n",
    "omics_and_clinic"
   ]
  },
  {
   "cell_type": "markdown",
   "id": "ac633c36",
   "metadata": {},
   "source": [
    "### Checking missing data\n",
    "We now compare missing data between the two AD groups (after previous filtering)."
   ]
  },
  {
   "cell_type": "code",
   "execution_count": null,
   "metadata": {
    "tags": [
     "hide-input"
    ]
   },
   "outputs": [],
   "source": [
    "data_completeness = (\n",
    "    omics_and_clinic.groupby(\"AD\").count().divide(clinic[\"AD\"].value_counts(), axis=0)\n",
    ")\n",
    "data_completeness"
   ]
  },
  {
   "cell_type": "markdown",
   "id": "7b673a65",
   "metadata": {},
   "source": [
    "Plot number of missing values per group, ordered by proportion of non-misisng values.\n",
    "in non-Alzheimer disease group"
   ]
  },
  {
   "cell_type": "code",
   "execution_count": null,
   "metadata": {
    "tags": [
     "hide-input"
    ]
   },
   "outputs": [],
   "source": [
    "data_completeness.T.sort_values(0).plot(style=\".\", ylim=(0, 1.05), alpha=0.5, rot=45)"
   ]
  },
  {
   "cell_type": "markdown",
   "id": "a6fa14ee",
   "metadata": {},
   "source": [
    "We can then plot the 20 protein groups with biggest difference in missing values between groups."
   ]
  },
  {
   "cell_type": "code",
   "execution_count": null,
   "id": "4d904f01",
   "metadata": {
    "tags": [
     "hide-input"
    ]
   },
   "outputs": [],
   "source": [
    "idx_largerst_diff = (\n",
    "    data_completeness.diff().dropna().T.squeeze().abs().nlargest(20).index\n",
    ")\n",
    "ax = (\n",
    "    data_completeness.loc[:, idx_largerst_diff]\n",
    "    .T.sort_values(0)\n",
    "    .plot(\n",
    "        style=\".\",\n",
    "        ylim=(0, 1.05),\n",
    "        alpha=0.5,\n",
    "        rot=45,\n",
    "    )\n",
    ")\n",
    "_ = ax.set_xticks(range(len(idx_largerst_diff)))\n",
    "_ = ax.set_xticklabels(\n",
    "    idx_largerst_diff,\n",
    "    rotation=45,\n",
    "    ha=\"right\",\n",
    "    fontsize=7,\n",
    ")"
   ]
  },
  {
   "cell_type": "markdown",
   "metadata": {},
   "source": [
    "## Running ANCOVA analysis\n",
    "We use the combined dataset to run ANCOVA analysis, i.e. the omics data which includes the dependent variable AD and the covariates."
   ]
  },
  {
   "cell_type": "code",
   "execution_count": null,
   "metadata": {
    "tags": [
     "hide-input"
    ]
   },
   "outputs": [],
   "source": [
    "omics_and_clinic"
   ]
  },
  {
   "cell_type": "markdown",
   "id": "12a07afd",
   "metadata": {},
   "source": [
    "The metadata here is integer type. All floats are proteomics measurements."
   ]
  },
  {
   "cell_type": "code",
   "execution_count": null,
   "metadata": {
    "tags": [
     "hide-input"
    ]
   },
   "outputs": [],
   "source": [
    "omics_and_clinic.dtypes.value_counts()"
   ]
  },
  {
   "cell_type": "code",
   "execution_count": null,
   "metadata": {
    "lines_to_next_cell": 2,
    "tags": [
     "hide-input"
    ]
   },
   "outputs": [],
   "source": [
    "group = \"AD\"\n",
    "covariates = [\"male\", \"age\"]\n",
    "omics_and_clinic[[group, *covariates]]"
   ]
  },
  {
   "cell_type": "markdown",
   "id": "a0ff095c",
   "metadata": {},
   "source": [
    "Run ANCOVA analysis."
   ]
  },
  {
   "cell_type": "code",
   "execution_count": null,
   "metadata": {},
   "outputs": [],
   "source": [
    "ancova = (\n",
    "    ad.run_ancova(\n",
    "        omics_and_clinic.astype({\"AD\": str}),  # hint: target needs to be of type str\n",
    "        drop_cols=[],\n",
    "        group=\"AD\",  \n",
    "        covariates=covariates,\n",
    "    )\n",
    "    .set_index(\"identifier\")\n",
    "    .sort_values(by=\"posthoc padj\")\n",
    ")  \n",
    "ancova_acore = ancova\n",
    "ancova"
   ]
  },
  {
   "cell_type": "markdown",
   "id": "b7cee413",
   "metadata": {},
   "source": [
    "The first columns contain group averages for each group for the specific protein group:"
   ]
  },
  {
   "cell_type": "code",
   "execution_count": null,
   "metadata": {},
   "outputs": [],
   "source": [
    "ancova.iloc[:,:6]"
   ]
  },
  {
   "cell_type": "markdown",
   "id": "3cc00d86",
   "metadata": {},
   "source": [
    "The last columns contain the test results (based on a linear model) for each protein group\n",
    "(on each row). Some information is duplicated."
   ]
  },
  {
   "cell_type": "code",
   "execution_count": null,
   "metadata": {
    "tags": [
     "hide-input"
    ]
   },
   "outputs": [],
   "source": [
    "regex_filter = \"pval|padj|reject|post\"\n",
    "ancova.filter(regex=regex_filter)"
   ]
  },
  {
   "cell_type": "markdown",
   "id": "d155dc1f",
   "metadata": {},
   "source": [
    "The other information is about fold-changes and other information."
   ]
  },
  {
   "cell_type": "code",
   "execution_count": null,
   "metadata": {
    "tags": [
     "hide-input"
    ]
   },
   "outputs": [],
   "source": [
    "ancova.iloc[:, 6:].filter(regex=f\"^(?!.*({regex_filter})).*$\")"
   ]
  },
  {
   "cell_type": "markdown",
   "id": "50d10e85",
   "metadata": {},
   "source": [
    "## ANOVA analysis\n",
    "The ANOVA analysis compares groups similarly to the ANCOVA, but without factoring in covariates. To compare significant hits when analyzing with and without covariates, we are running an ANOVA.\n",
    "> To check: pvalues for proteins with missing mean values? some merging issue?"
   ]
  },
  {
   "cell_type": "code",
   "execution_count": null,
   "metadata": {},
   "outputs": [],
   "source": [
    "anova = (\n",
    "    ad.run_anova(\n",
    "        omics_and_clinic.reset_index(),\n",
    "        subject=\"Sample ID\",\n",
    "        drop_cols=covariates,\n",
    "        group=\"AD\",\n",
    "    )\n",
    "    .set_index(\"identifier\")\n",
    "    .sort_values(by=\"padj\")\n",
    ")\n",
    "anova"
   ]
  },
  {
   "cell_type": "markdown",
   "id": "28434ecb",
   "metadata": {},
   "source": [
    "The output table is similar to that of ANCOVA. In the first columns, averages per protein group are listed."
   ]
  },
  {
   "cell_type": "code",
   "execution_count": null,
   "metadata": {
    "tags": [
     "hide-input"
    ]
   },
   "outputs": [],
   "source": [
    "view = anova.iloc[:, 2:7]\n",
    "viewed_cols = view.columns.to_list()\n",
    "view"
   ]
  },
  {
   "cell_type": "markdown",
   "id": "3d362360",
   "metadata": {},
   "source": [
    "The last columns contain the test results for each protein group (the identifiers)."
   ]
  },
  {
   "cell_type": "code",
   "execution_count": null,
   "id": "2e2cf127",
   "metadata": {
    "tags": [
     "hide-input"
    ]
   },
   "outputs": [],
   "source": [
    "regex_filter = \"pval|padj|reject|stat|FC\"\n",
    "view = anova.filter(regex=regex_filter)\n",
    "viewed_cols.extend(view.columns)\n",
    "view"
   ]
  },
  {
   "cell_type": "markdown",
   "id": "d02676e9",
   "metadata": {},
   "source": [
    "The remaining columns are related to test method."
   ]
  },
  {
   "cell_type": "code",
   "execution_count": null,
   "id": "4c8f516b",
   "metadata": {
    "tags": [
     "hide-input"
    ]
   },
   "outputs": [],
   "source": [
    "anova.drop(columns=viewed_cols)"
   ]
  },
  {
   "cell_type": "markdown",
   "id": "69771096",
   "metadata": {},
   "source": [
    "## Comparing ANOVA and ANCOVA results\n",
    "Cross-tabulated results after FDR correction for both ANOVA and ANCOVA."
   ]
  },
  {
   "cell_type": "code",
   "execution_count": null,
   "metadata": {
    "tags": [
     "hide-input"
    ]
   },
   "outputs": [],
   "source": [
    "pd.crosstab(\n",
    "    anova.rejected.rename(\"rejected ANOVA\"),\n",
    "    ancova_acore.rejected.rename(\"rejected ANCOVA\"),\n",
    ")"
   ]
  },
  {
   "cell_type": "markdown",
   "metadata": {},
   "source": [
    "The ANOVA and ANCOVA results are not identical. Control for relevant covariates\n",
    "as they can confound the results. Here we used age and biological sex."
   ]
  }
 ],
 "metadata": {
  "kernelspec": {
   "display_name": ".venv",
   "language": "python",
   "name": "python3"
  },
  "language_info": {
   "codemirror_mode": {
    "name": "ipython",
    "version": 3
   },
   "file_extension": ".py",
   "mimetype": "text/x-python",
   "name": "python",
   "nbconvert_exporter": "python",
   "pygments_lexer": "ipython3",
   "version": "3.9.6"
  }
 },
 "nbformat": 4,
 "nbformat_minor": 2
}
