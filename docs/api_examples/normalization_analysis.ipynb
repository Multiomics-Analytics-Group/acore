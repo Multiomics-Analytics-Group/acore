{
 "cells": [
  {
   "cell_type": "markdown",
   "id": "e31da646",
   "metadata": {
    "papermill": {
     "duration": 0.012785,
     "end_time": "2024-10-15T08:04:34.365201",
     "exception": false,
     "start_time": "2024-10-15T08:04:34.352416",
     "status": "completed"
    }
   },
   "source": [
    "# Normalization of samples in a dataset example\n",
    "\n",
    "We will explore an Alzheimer dataset where the data was collected in four different sites.\n",
    "We will see that the sites have a an effect where the data is in principal component space\n",
    "and in UMAP space. We will then normalize the data and see how the effect on these plots.\n",
    "\n",
    "Refers to the `acore.normalization` module."
   ]
  },
  {
   "cell_type": "code",
   "execution_count": null,
   "id": "55c829ba",
   "metadata": {
    "execution": {
     "iopub.execute_input": "2024-10-15T08:04:34.405971Z",
     "iopub.status.busy": "2024-10-15T08:04:34.405799Z",
     "iopub.status.idle": "2024-10-15T08:04:37.071374Z",
     "shell.execute_reply": "2024-10-15T08:04:37.070856Z"
    },
    "papermill": {
     "duration": 2.675079,
     "end_time": "2024-10-15T08:04:37.072487",
     "exception": false,
     "start_time": "2024-10-15T08:04:34.397408",
     "status": "completed"
    },
    "tags": [
     "hide-output"
    ]
   },
   "outputs": [],
   "source": [
    "%pip install acore"
   ]
  },
  {
   "cell_type": "code",
   "execution_count": null,
   "id": "3df5a8aa",
   "metadata": {
    "execution": {
     "iopub.execute_input": "2024-10-15T08:04:37.102776Z",
     "iopub.status.busy": "2024-10-15T08:04:37.102615Z",
     "iopub.status.idle": "2024-10-15T08:04:40.819337Z",
     "shell.execute_reply": "2024-10-15T08:04:40.819040Z"
    },
    "papermill": {
     "duration": 3.732329,
     "end_time": "2024-10-15T08:04:40.820171",
     "exception": false,
     "start_time": "2024-10-15T08:04:37.087842",
     "status": "completed"
    },
    "tags": [
     "hide-input"
    ]
   },
   "outputs": [],
   "source": [
    "import itertools\n",
    "from typing import Optional\n",
    "\n",
    "import matplotlib.pyplot as plt\n",
    "import numpy as np\n",
    "import pandas as pd\n",
    "import sklearn\n",
    "import sklearn.impute\n",
    "import sklearn.preprocessing\n",
    "import umap\n",
    "from vuecore.decomposition import plot_explained_variance\n",
    "\n",
    "import acore.normalization\n",
    "import acore.sklearn\n",
    "from acore.decomposition import pca as acore_pca  # ! to remove\n",
    "\n",
    "\n",
    "def plot_umap(X_scaled, y, meta_column, random_state=42) -> plt.Axes:\n",
    "    \"\"\"Fit and plot UMAP embedding with two components with colors defined by meta_column.\"\"\"\n",
    "    reducer = umap.UMAP(random_state=random_state, n_jobs=1)\n",
    "    embedding = reducer.fit_transform(X_scaled)\n",
    "    embedding = pd.DataFrame(\n",
    "        embedding, index=X_scaled.index, columns=[\"UMAP 1\", \"UMAP 2\"]\n",
    "    ).join(y.astype(\"category\"))\n",
    "    ax = embedding.plot.scatter(\"UMAP 1\", \"UMAP 2\", c=meta_column, cmap=\"Paired\")\n",
    "    return ax\n",
    "\n",
    "\n",
    "def standard_normalize(X: pd.DataFrame) -> pd.DataFrame:\n",
    "    \"\"\"Standard normalize data and keep indices of DataFrame.\"\"\"\n",
    "    scaler = sklearn.preprocessing.StandardScaler()\n",
    "    X_scaled = acore.sklearn.transform_DataFrame(X, fct=scaler.fit_transform)\n",
    "    return X_scaled\n",
    "\n",
    "\n",
    "def median_impute(X: pd.DataFrame) -> pd.DataFrame:\n",
    "    median_imputer = sklearn.impute.SimpleImputer(strategy=\"median\")\n",
    "    X_imputed = acore.sklearn.transform_DataFrame(X, median_imputer.fit_transform)\n",
    "    return X_imputed\n",
    "\n",
    "\n",
    "def run_and_plot_pca(\n",
    "    X_scaled,\n",
    "    y,\n",
    "    meta_column,\n",
    "    n_components=4,\n",
    ") -> tuple[pd.DataFrame, plt.Figure]:\n",
    "    PCs, _ = acore_pca.run_pca(X_scaled, n_components=n_components)\n",
    "    PCs.columns = [s.replace(\"principal component\", \"PC\") for s in PCs.columns]\n",
    "    PCs = PCs.join(y.astype(\"category\"))\n",
    "    up_to = min(PCs.shape[-1], n_components)\n",
    "    fig, axes = plt.subplots(up_to - 1, 2, figsize=(6, 8), layout=\"constrained\")\n",
    "    for k, (pos, ax) in enumerate(\n",
    "        zip(itertools.combinations(range(up_to), 2), axes.flatten())\n",
    "    ):\n",
    "        i, j = pos\n",
    "        plot_heatmap = bool(k % 2)\n",
    "        PCs.plot.scatter(\n",
    "            i, j, c=meta_column, cmap=\"Paired\", ax=ax, colorbar=plot_heatmap\n",
    "        )\n",
    "    _ = PCs.pop(\n",
    "        meta_column,\n",
    "    )\n",
    "    return PCs, fig"
   ]
  },
  {
   "cell_type": "markdown",
   "id": "f619c85c",
   "metadata": {
    "papermill": {
     "duration": 0.004826,
     "end_time": "2024-10-15T08:04:40.830197",
     "exception": false,
     "start_time": "2024-10-15T08:04:40.825371",
     "status": "completed"
    }
   },
   "source": [
    "\n",
    "## Set some parameters"
   ]
  },
  {
   "cell_type": "code",
   "execution_count": 3,
   "id": "73c12cff",
   "metadata": {
    "execution": {
     "iopub.execute_input": "2024-10-15T08:04:40.840885Z",
     "iopub.status.busy": "2024-10-15T08:04:40.840616Z",
     "iopub.status.idle": "2024-10-15T08:04:40.842862Z",
     "shell.execute_reply": "2024-10-15T08:04:40.842666Z"
    },
    "papermill": {
     "duration": 0.008183,
     "end_time": "2024-10-15T08:04:40.843462",
     "exception": false,
     "start_time": "2024-10-15T08:04:40.835279",
     "status": "completed"
    },
    "tags": [
     "parameters"
    ]
   },
   "outputs": [],
   "source": [
    "fname_metadata: str = (\n",
    "    \"https://raw.githubusercontent.com/RasmussenLab/\"\n",
    "    \"njab/HEAD/docs/tutorial/data/alzheimer/meta.csv\"  # clincial data\n",
    ")\n",
    "fname_omics: str = (\n",
    "    \"https://raw.githubusercontent.com/RasmussenLab/\"\n",
    "    \"njab/HEAD/docs/tutorial/data/alzheimer/proteome.csv\"  # omics data\n",
    ")\n",
    "METACOL: str = \"_collection site\"  # target column in fname_metadata dataset (binary)\n",
    "METACOL_LABEL: Optional[str] = \"site\"  # optional: rename target variable\n",
    "n_features_max: int = 5\n",
    "freq_cutoff: float = 0.5  # Omics cutoff for sample completeness\n",
    "VAL_IDS: str = \"\"  #\n",
    "VAL_IDS_query: str = \"\"\n",
    "weights: bool = True\n",
    "FOLDER = \"alzheimer\"\n",
    "model_name = \"all\""
   ]
  },
  {
   "cell_type": "markdown",
   "id": "500c7c2a",
   "metadata": {
    "papermill": {
     "duration": 0.004316,
     "end_time": "2024-10-15T08:04:40.852248",
     "exception": false,
     "start_time": "2024-10-15T08:04:40.847932",
     "status": "completed"
    }
   },
   "source": [
    "## Setup"
   ]
  },
  {
   "cell_type": "markdown",
   "id": "27226512",
   "metadata": {},
   "source": [
    "### Load proteomics (protein groups) data"
   ]
  },
  {
   "cell_type": "code",
   "execution_count": 4,
   "id": "f58408a4",
   "metadata": {
    "execution": {
     "iopub.execute_input": "2024-10-15T08:04:40.861905Z",
     "iopub.status.busy": "2024-10-15T08:04:40.861687Z",
     "iopub.status.idle": "2024-10-15T08:04:41.753434Z",
     "shell.execute_reply": "2024-10-15T08:04:41.753003Z"
    },
    "papermill": {
     "duration": 0.897386,
     "end_time": "2024-10-15T08:04:41.754321",
     "exception": false,
     "start_time": "2024-10-15T08:04:40.856935",
     "status": "completed"
    }
   },
   "outputs": [],
   "source": [
    "if METACOL_LABEL is None:\n",
    "    METACOL_LABEL = METACOL\n",
    "metadata = (\n",
    "    pd.read_csv(fname_metadata, usecols=[\"Sample ID\", METACOL], index_col=0)\n",
    "    .convert_dtypes()\n",
    "    .rename(columns={METACOL: METACOL_LABEL})\n",
    ")\n",
    "omics = pd.read_csv(fname_omics, index_col=0)"
   ]
  },
  {
   "cell_type": "markdown",
   "id": "abfe1216",
   "metadata": {
    "papermill": {
     "duration": 0.01108,
     "end_time": "2024-10-15T08:04:41.781617",
     "exception": false,
     "start_time": "2024-10-15T08:04:41.770537",
     "status": "completed"
    }
   },
   "source": [
    "Data shapes"
   ]
  },
  {
   "cell_type": "code",
   "execution_count": null,
   "id": "46a0da75",
   "metadata": {
    "execution": {
     "iopub.execute_input": "2024-10-15T08:04:41.801341Z",
     "iopub.status.busy": "2024-10-15T08:04:41.801189Z",
     "iopub.status.idle": "2024-10-15T08:04:41.804608Z",
     "shell.execute_reply": "2024-10-15T08:04:41.804364Z"
    },
    "papermill": {
     "duration": 0.014616,
     "end_time": "2024-10-15T08:04:41.805278",
     "exception": false,
     "start_time": "2024-10-15T08:04:41.790662",
     "status": "completed"
    }
   },
   "outputs": [],
   "source": [
    "omics.shape, metadata.shape"
   ]
  },
  {
   "cell_type": "markdown",
   "id": "8b878346",
   "metadata": {
    "papermill": {
     "duration": 0.01029,
     "end_time": "2024-10-15T08:04:41.828582",
     "exception": false,
     "start_time": "2024-10-15T08:04:41.818292",
     "status": "completed"
    }
   },
   "source": [
    "See how common omics features are and remove feature below choosen frequency cutoff"
   ]
  },
  {
   "cell_type": "code",
   "execution_count": null,
   "id": "3f889ca6",
   "metadata": {
    "execution": {
     "iopub.execute_input": "2024-10-15T08:04:41.848755Z",
     "iopub.status.busy": "2024-10-15T08:04:41.848552Z",
     "iopub.status.idle": "2024-10-15T08:04:42.083439Z",
     "shell.execute_reply": "2024-10-15T08:04:42.082957Z"
    },
    "papermill": {
     "duration": 0.246855,
     "end_time": "2024-10-15T08:04:42.084889",
     "exception": false,
     "start_time": "2024-10-15T08:04:41.838034",
     "status": "completed"
    }
   },
   "outputs": [],
   "source": [
    "ax = omics.notna().sum().sort_values().plot(rot=90)"
   ]
  },
  {
   "cell_type": "code",
   "execution_count": null,
   "id": "1fd70efb",
   "metadata": {
    "execution": {
     "iopub.execute_input": "2024-10-15T08:04:42.105945Z",
     "iopub.status.busy": "2024-10-15T08:04:42.105522Z",
     "iopub.status.idle": "2024-10-15T08:04:42.261211Z",
     "shell.execute_reply": "2024-10-15T08:04:42.260956Z"
    },
    "papermill": {
     "duration": 0.165421,
     "end_time": "2024-10-15T08:04:42.261933",
     "exception": false,
     "start_time": "2024-10-15T08:04:42.096512",
     "status": "completed"
    },
    "tags": [
     "hide-input"
    ]
   },
   "outputs": [],
   "source": [
    "M_before = omics.shape[1]\n",
    "omics = omics.dropna(thresh=int(len(omics) * freq_cutoff), axis=1)\n",
    "M_after = omics.shape[1]\n",
    "msg = (\n",
    "    f\"Removed {M_before-M_after} features with more \"\n",
    "    f\"than {freq_cutoff*100}% missing values.\"\n",
    "    f\"\\nRemaining features: {M_after} (of {M_before})\"\n",
    ")\n",
    "print(msg)\n",
    "# keep a map of all proteins in protein group, but only display first protein\n",
    "# proteins are unique to protein groups\n",
    "pg_map = {k: k.split(\";\")[0] for k in omics.columns}\n",
    "omics = omics.rename(columns=pg_map)\n",
    "# log2 transform raw intensity data:\n",
    "omics = np.log2(omics + 1)\n",
    "ax = (\n",
    "    omics.notna()\n",
    "    .sum()\n",
    "    .sort_values()\n",
    "    .plot(\n",
    "        rot=90,\n",
    "        ylabel=\"Number of samples\",\n",
    "        xlabel=\"Proteins (ranked by missing values)\",\n",
    "    )\n",
    ")\n",
    "omics"
   ]
  },
  {
   "cell_type": "markdown",
   "id": "a1bec755",
   "metadata": {
    "papermill": {
     "duration": 0.010365,
     "end_time": "2024-10-15T08:04:42.284708",
     "exception": false,
     "start_time": "2024-10-15T08:04:42.274343",
     "status": "completed"
    }
   },
   "source": [
    "### Sample metadata"
   ]
  },
  {
   "cell_type": "code",
   "execution_count": null,
   "id": "cbec2c75",
   "metadata": {
    "execution": {
     "iopub.execute_input": "2024-10-15T08:04:42.305874Z",
     "iopub.status.busy": "2024-10-15T08:04:42.305743Z",
     "iopub.status.idle": "2024-10-15T08:04:42.308958Z",
     "shell.execute_reply": "2024-10-15T08:04:42.308750Z"
    },
    "papermill": {
     "duration": 0.01277,
     "end_time": "2024-10-15T08:04:42.309575",
     "exception": false,
     "start_time": "2024-10-15T08:04:42.296805",
     "status": "completed"
    }
   },
   "outputs": [],
   "source": [
    "metadata"
   ]
  },
  {
   "cell_type": "markdown",
   "id": "a9849be5",
   "metadata": {
    "papermill": {
     "duration": 0.010632,
     "end_time": "2024-10-15T08:04:42.332375",
     "exception": false,
     "start_time": "2024-10-15T08:04:42.321743",
     "status": "completed"
    }
   },
   "source": [
    "Tabulate selected metadata and check for missing values"
   ]
  },
  {
   "cell_type": "code",
   "execution_count": null,
   "id": "feebf1a2",
   "metadata": {
    "execution": {
     "iopub.execute_input": "2024-10-15T08:04:42.354573Z",
     "iopub.status.busy": "2024-10-15T08:04:42.354448Z",
     "iopub.status.idle": "2024-10-15T08:04:42.358121Z",
     "shell.execute_reply": "2024-10-15T08:04:42.357913Z"
    },
    "papermill": {
     "duration": 0.015558,
     "end_time": "2024-10-15T08:04:42.358746",
     "exception": false,
     "start_time": "2024-10-15T08:04:42.343188",
     "status": "completed"
    },
    "tags": [
     "hide-input"
    ]
   },
   "outputs": [],
   "source": [
    "metadata[METACOL_LABEL].value_counts(dropna=False)"
   ]
  },
  {
   "cell_type": "code",
   "execution_count": null,
   "id": "aa0c2670",
   "metadata": {
    "execution": {
     "iopub.execute_input": "2024-10-15T08:04:42.386730Z",
     "iopub.status.busy": "2024-10-15T08:04:42.386644Z",
     "iopub.status.idle": "2024-10-15T08:04:42.389841Z",
     "shell.execute_reply": "2024-10-15T08:04:42.389633Z"
    },
    "papermill": {
     "duration": 0.021501,
     "end_time": "2024-10-15T08:04:42.390422",
     "exception": false,
     "start_time": "2024-10-15T08:04:42.368921",
     "status": "completed"
    },
    "tags": [
     "hide-input"
    ]
   },
   "outputs": [],
   "source": [
    "target_counts = metadata[METACOL_LABEL].value_counts()\n",
    "\n",
    "if target_counts.sum() < len(metadata):\n",
    "    print(\n",
    "        \"Target has missing values.\"\n",
    "        f\" Can only use {target_counts.sum()} of {len(metadata)} samples.\"\n",
    "    )\n",
    "    mask = metadata[METACOL_LABEL].notna()\n",
    "    metadata, omics = metadata.loc[mask], omics.loc[mask]\n",
    "\n",
    "if METACOL_LABEL is None:\n",
    "    METACOL_LABEL = METACOL_LABEL\n",
    "y = metadata[METACOL_LABEL].astype(\"category\")"
   ]
  },
  {
   "cell_type": "markdown",
   "id": "c2ac18e9",
   "metadata": {
    "papermill": {
     "duration": 0.005209,
     "end_time": "2024-10-15T08:04:42.400811",
     "exception": false,
     "start_time": "2024-10-15T08:04:42.395602",
     "status": "completed"
    }
   },
   "source": [
    "For simplicity we normalize here all samples together, but normally you would need to\n",
    "apply the normalization from you training data to the test data. So see these examples\n",
    "here as a way to do it for your training data."
   ]
  },
  {
   "cell_type": "markdown",
   "id": "cbb65af8",
   "metadata": {
    "papermill": {
     "duration": 0.004904,
     "end_time": "2024-10-15T08:04:42.411083",
     "exception": false,
     "start_time": "2024-10-15T08:04:42.406179",
     "status": "completed"
    }
   },
   "source": [
    "### Fill missing values for preliminary plots"
   ]
  },
  {
   "cell_type": "markdown",
   "id": "ac708320",
   "metadata": {
    "papermill": {
     "duration": 0.00602,
     "end_time": "2024-10-15T08:04:42.423894",
     "exception": false,
     "start_time": "2024-10-15T08:04:42.417874",
     "status": "completed"
    }
   },
   "source": [
    "Impute using median to impute (before scaling, which can be changed)."
   ]
  },
  {
   "cell_type": "code",
   "execution_count": null,
   "id": "d0b09f05",
   "metadata": {
    "execution": {
     "iopub.execute_input": "2024-10-15T08:04:42.437104Z",
     "iopub.status.busy": "2024-10-15T08:04:42.436981Z",
     "iopub.status.idle": "2024-10-15T08:04:42.454722Z",
     "shell.execute_reply": "2024-10-15T08:04:42.454529Z"
    },
    "papermill": {
     "duration": 0.025789,
     "end_time": "2024-10-15T08:04:42.455338",
     "exception": false,
     "start_time": "2024-10-15T08:04:42.429549",
     "status": "completed"
    },
    "tags": [
     "hide-input"
    ]
   },
   "outputs": [],
   "source": [
    "omics_imputed = median_impute(omics)\n",
    "assert omics_imputed.isna().sum().sum() == 0\n",
    "omics_imputed.shape"
   ]
  },
  {
   "cell_type": "markdown",
   "id": "55f6ab16",
   "metadata": {
    "papermill": {
     "duration": 0.007954,
     "end_time": "2024-10-15T08:04:42.472216",
     "exception": false,
     "start_time": "2024-10-15T08:04:42.464262",
     "status": "completed"
    }
   },
   "source": [
    "## Dimensionality reduction - unnormalized data\n",
    "on median imputed and standard normalized omics data."
   ]
  },
  {
   "cell_type": "markdown",
   "id": "85f8172a",
   "metadata": {},
   "source": [
    "### Principal Components\n",
    "Plot first 4 PCs with categorical metadata as label annotating each sample."
   ]
  },
  {
   "cell_type": "code",
   "execution_count": null,
   "id": "ded39ffb",
   "metadata": {
    "execution": {
     "iopub.execute_input": "2024-10-15T08:04:42.488173Z",
     "iopub.status.busy": "2024-10-15T08:04:42.488058Z",
     "iopub.status.idle": "2024-10-15T08:04:42.621417Z",
     "shell.execute_reply": "2024-10-15T08:04:42.618618Z"
    },
    "papermill": {
     "duration": 0.142293,
     "end_time": "2024-10-15T08:04:42.622845",
     "exception": false,
     "start_time": "2024-10-15T08:04:42.480552",
     "status": "completed"
    },
    "tags": [
     "hide-input"
    ]
   },
   "outputs": [],
   "source": [
    "omics_imp_scaled = standard_normalize(omics_imputed)\n",
    "\n",
    "PCs, pca = acore_pca.run_pca(omics_imp_scaled, n_components=4)\n",
    "ax = plot_explained_variance(pca)\n",
    "ax.locator_params(axis=\"x\", integer=True)\n",
    "omics_imp_scaled.shape"
   ]
  },
  {
   "cell_type": "code",
   "execution_count": null,
   "id": "f2a740a0",
   "metadata": {
    "execution": {
     "iopub.execute_input": "2024-10-15T08:04:42.718760Z",
     "iopub.status.busy": "2024-10-15T08:04:42.718502Z",
     "iopub.status.idle": "2024-10-15T08:04:43.184605Z",
     "shell.execute_reply": "2024-10-15T08:04:43.184367Z"
    },
    "papermill": {
     "duration": 0.497375,
     "end_time": "2024-10-15T08:04:43.185400",
     "exception": false,
     "start_time": "2024-10-15T08:04:42.688025",
     "status": "completed"
    },
    "tags": [
     "hide-input"
    ]
   },
   "outputs": [],
   "source": [
    "pcs, fig = run_and_plot_pca(omics_imp_scaled, y, METACOL_LABEL)"
   ]
  },
  {
   "cell_type": "markdown",
   "id": "3cd76469",
   "metadata": {
    "papermill": {
     "duration": 0.006719,
     "end_time": "2024-10-15T08:04:43.199228",
     "exception": false,
     "start_time": "2024-10-15T08:04:43.192509",
     "status": "completed"
    }
   },
   "source": [
    "### UMAP\n",
    "of median imputed and normalized omics data:"
   ]
  },
  {
   "cell_type": "code",
   "execution_count": null,
   "id": "33b64b35",
   "metadata": {
    "execution": {
     "iopub.execute_input": "2024-10-15T08:04:43.216151Z",
     "iopub.status.busy": "2024-10-15T08:04:43.215329Z",
     "iopub.status.idle": "2024-10-15T08:04:45.453903Z",
     "shell.execute_reply": "2024-10-15T08:04:45.449160Z"
    },
    "papermill": {
     "duration": 2.251543,
     "end_time": "2024-10-15T08:04:45.457719",
     "exception": false,
     "start_time": "2024-10-15T08:04:43.206176",
     "status": "completed"
    },
    "tags": [
     "hide-input"
    ]
   },
   "outputs": [],
   "source": [
    "ax = plot_umap(omics_imp_scaled, y, METACOL_LABEL)"
   ]
  },
  {
   "cell_type": "markdown",
   "id": "66d3d12e",
   "metadata": {
    "papermill": {
     "duration": 0.013675,
     "end_time": "2024-10-15T08:04:45.491225",
     "exception": false,
     "start_time": "2024-10-15T08:04:45.477550",
     "status": "completed"
    }
   },
   "source": [
    "## Normalization of samples in a dataset\n",
    "We will use the `acore.normalization` module to normalize the data.\n",
    "\n",
    "We will do it for each of the data on the omics dataset which is log transformed,\n",
    "but not yet imputed and normalized. Then we will reapply standard\n",
    "normalization before replotting the PCA and UMAP plots. The execption is combat as it\n",
    "need complete data."
   ]
  },
  {
   "cell_type": "code",
   "execution_count": null,
   "id": "89f7a4a8",
   "metadata": {
    "execution": {
     "iopub.execute_input": "2024-10-15T08:04:45.522336Z",
     "iopub.status.busy": "2024-10-15T08:04:45.522078Z",
     "iopub.status.idle": "2024-10-15T08:04:45.540528Z",
     "shell.execute_reply": "2024-10-15T08:04:45.539880Z"
    },
    "papermill": {
     "duration": 0.037229,
     "end_time": "2024-10-15T08:04:45.541776",
     "exception": false,
     "start_time": "2024-10-15T08:04:45.504547",
     "status": "completed"
    },
    "tags": [
     "hide-input"
    ]
   },
   "outputs": [],
   "source": [
    "omics"
   ]
  },
  {
   "cell_type": "markdown",
   "id": "8e972d1e",
   "metadata": {
    "papermill": {
     "duration": 0.015481,
     "end_time": "2024-10-15T08:04:45.571824",
     "exception": false,
     "start_time": "2024-10-15T08:04:45.556343",
     "status": "completed"
    }
   },
   "source": [
    "## Combat normalization\n",
    "Correct for batch effects in the data using a robust regression approach normalizing\n",
    "mean and scale effetcs out for each feature by batch. Assumes normally distributed data.\n",
    "\n",
    "> ⚠️ Combat needs imputed data"
   ]
  },
  {
   "cell_type": "code",
   "execution_count": null,
   "id": "c3a7d04d",
   "metadata": {
    "execution": {
     "iopub.execute_input": "2024-10-15T08:04:45.611270Z",
     "iopub.status.busy": "2024-10-15T08:04:45.611049Z",
     "iopub.status.idle": "2024-10-15T08:04:45.634947Z",
     "shell.execute_reply": "2024-10-15T08:04:45.634525Z"
    },
    "papermill": {
     "duration": 0.03533,
     "end_time": "2024-10-15T08:04:45.636282",
     "exception": false,
     "start_time": "2024-10-15T08:04:45.600952",
     "status": "completed"
    }
   },
   "outputs": [],
   "source": [
    "%%time\n",
    "X = median_impute(omics)\n",
    "X = acore.normalization.combat_batch_correction(\n",
    "    X.join(y),\n",
    "    batch_col=\"site\",\n",
    ")\n",
    "X"
   ]
  },
  {
   "cell_type": "code",
   "execution_count": null,
   "id": "aff9589b",
   "metadata": {
    "execution": {
     "iopub.execute_input": "2024-10-15T08:04:45.667463Z",
     "iopub.status.busy": "2024-10-15T08:04:45.667004Z",
     "iopub.status.idle": "2024-10-15T08:04:46.730589Z",
     "shell.execute_reply": "2024-10-15T08:04:46.730346Z"
    },
    "papermill": {
     "duration": 1.080399,
     "end_time": "2024-10-15T08:04:46.731251",
     "exception": false,
     "start_time": "2024-10-15T08:04:45.650852",
     "status": "completed"
    },
    "tags": [
     "hide-input"
    ]
   },
   "outputs": [],
   "source": [
    "omics_imp_scaled = standard_normalize(omics_imp_scaled)\n",
    "PCs, fig = run_and_plot_pca(omics_imp_scaled, y, METACOL_LABEL, n_components=4)\n",
    "ax = plot_umap(omics_imp_scaled, y, METACOL_LABEL)"
   ]
  },
  {
   "cell_type": "markdown",
   "id": "57ffebe1",
   "metadata": {
    "papermill": {
     "duration": 0.013646,
     "end_time": "2024-10-15T08:04:46.763803",
     "exception": false,
     "start_time": "2024-10-15T08:04:46.750157",
     "status": "completed"
    }
   },
   "source": [
    "See change by substracting combat normalized data from original data."
   ]
  },
  {
   "cell_type": "code",
   "execution_count": null,
   "id": "02d6773f",
   "metadata": {
    "execution": {
     "iopub.execute_input": "2024-10-15T08:04:46.789884Z",
     "iopub.status.busy": "2024-10-15T08:04:46.789752Z",
     "iopub.status.idle": "2024-10-15T08:04:46.796400Z",
     "shell.execute_reply": "2024-10-15T08:04:46.796180Z"
    },
    "lines_to_next_cell": 2,
    "papermill": {
     "duration": 0.019827,
     "end_time": "2024-10-15T08:04:46.797007",
     "exception": false,
     "start_time": "2024-10-15T08:04:46.777180",
     "status": "completed"
    },
    "tags": [
     "hide-input"
    ]
   },
   "outputs": [],
   "source": [
    "omics - X"
   ]
  },
  {
   "cell_type": "markdown",
   "id": "4eb70d81",
   "metadata": {
    "papermill": {
     "duration": 0.012452,
     "end_time": "2024-10-15T08:04:46.823250",
     "exception": false,
     "start_time": "2024-10-15T08:04:46.810798",
     "status": "completed"
    }
   },
   "source": [
    "## Median normalization\n",
    "Substracts a constant from all features of a sample. All samples will have the same\n",
    "global median."
   ]
  },
  {
   "cell_type": "code",
   "execution_count": null,
   "id": "417cc364",
   "metadata": {
    "execution": {
     "iopub.execute_input": "2024-10-15T08:04:46.846599Z",
     "iopub.status.busy": "2024-10-15T08:04:46.846399Z",
     "iopub.status.idle": "2024-10-15T08:04:46.865577Z",
     "shell.execute_reply": "2024-10-15T08:04:46.865352Z"
    },
    "papermill": {
     "duration": 0.033703,
     "end_time": "2024-10-15T08:04:46.869081",
     "exception": false,
     "start_time": "2024-10-15T08:04:46.835378",
     "status": "completed"
    }
   },
   "outputs": [],
   "source": [
    "%%time\n",
    "X = acore.normalization.normalize_data(omics, \"median\")\n",
    "X"
   ]
  },
  {
   "cell_type": "code",
   "execution_count": null,
   "id": "871e9096",
   "metadata": {
    "execution": {
     "iopub.execute_input": "2024-10-15T08:04:46.916437Z",
     "iopub.status.busy": "2024-10-15T08:04:46.916311Z",
     "iopub.status.idle": "2024-10-15T08:04:47.874817Z",
     "shell.execute_reply": "2024-10-15T08:04:47.874525Z"
    },
    "papermill": {
     "duration": 0.973562,
     "end_time": "2024-10-15T08:04:47.875485",
     "exception": false,
     "start_time": "2024-10-15T08:04:46.901923",
     "status": "completed"
    },
    "tags": [
     "hide-input"
    ]
   },
   "outputs": [],
   "source": [
    "omics_imp_scaled = median_impute(X)\n",
    "omics_imp_scaled = standard_normalize(omics_imp_scaled)\n",
    "PCs, fig = run_and_plot_pca(omics_imp_scaled, y, METACOL_LABEL, n_components=4)\n",
    "ax = plot_umap(omics_imp_scaled, y, METACOL_LABEL)"
   ]
  },
  {
   "cell_type": "markdown",
   "id": "036ccfe1",
   "metadata": {
    "papermill": {
     "duration": 0.019261,
     "end_time": "2024-10-15T08:04:47.910873",
     "exception": false,
     "start_time": "2024-10-15T08:04:47.891612",
     "status": "completed"
    }
   },
   "source": [
    "See change by substracting median normalized data from original data."
   ]
  },
  {
   "cell_type": "code",
   "execution_count": null,
   "id": "59971539",
   "metadata": {
    "execution": {
     "iopub.execute_input": "2024-10-15T08:04:47.938014Z",
     "iopub.status.busy": "2024-10-15T08:04:47.937890Z",
     "iopub.status.idle": "2024-10-15T08:04:47.946050Z",
     "shell.execute_reply": "2024-10-15T08:04:47.945492Z"
    },
    "papermill": {
     "duration": 0.02504,
     "end_time": "2024-10-15T08:04:47.946967",
     "exception": false,
     "start_time": "2024-10-15T08:04:47.921927",
     "status": "completed"
    },
    "tags": [
     "hide-input"
    ]
   },
   "outputs": [],
   "source": [
    "omics - X"
   ]
  },
  {
   "cell_type": "code",
   "execution_count": null,
   "id": "ff59ec5f",
   "metadata": {
    "lines_to_next_cell": 0,
    "papermill": {
     "duration": 0.010425,
     "end_time": "2024-10-15T08:04:47.972774",
     "exception": false,
     "start_time": "2024-10-15T08:04:47.962349",
     "status": "completed"
    }
   },
   "outputs": [],
   "source": []
  },
  {
   "cell_type": "markdown",
   "id": "7f004ccd",
   "metadata": {
    "papermill": {
     "duration": 0.046399,
     "end_time": "2024-10-15T08:04:48.029073",
     "exception": false,
     "start_time": "2024-10-15T08:04:47.982674",
     "status": "completed"
    }
   },
   "source": [
    "## Z-score normalization\n",
    "Normalize a sample by it's mean and standard deviation."
   ]
  },
  {
   "cell_type": "code",
   "execution_count": null,
   "id": "14b11090",
   "metadata": {
    "execution": {
     "iopub.execute_input": "2024-10-15T08:04:48.054393Z",
     "iopub.status.busy": "2024-10-15T08:04:48.054261Z",
     "iopub.status.idle": "2024-10-15T08:04:48.066943Z",
     "shell.execute_reply": "2024-10-15T08:04:48.066718Z"
    },
    "papermill": {
     "duration": 0.023509,
     "end_time": "2024-10-15T08:04:48.067691",
     "exception": false,
     "start_time": "2024-10-15T08:04:48.044182",
     "status": "completed"
    }
   },
   "outputs": [],
   "source": [
    "%%time\n",
    "X = acore.normalization.normalize_data(omics, \"zscore\")\n",
    "X"
   ]
  },
  {
   "cell_type": "code",
   "execution_count": null,
   "id": "a71ab298",
   "metadata": {
    "execution": {
     "iopub.execute_input": "2024-10-15T08:04:48.098382Z",
     "iopub.status.busy": "2024-10-15T08:04:48.098253Z",
     "iopub.status.idle": "2024-10-15T08:04:49.175088Z",
     "shell.execute_reply": "2024-10-15T08:04:49.174849Z"
    },
    "papermill": {
     "duration": 1.098495,
     "end_time": "2024-10-15T08:04:49.175773",
     "exception": false,
     "start_time": "2024-10-15T08:04:48.077278",
     "status": "completed"
    },
    "tags": [
     "hide-input"
    ]
   },
   "outputs": [],
   "source": [
    "omics_imp_scaled = median_impute(X)\n",
    "omics_imp_scaled = standard_normalize(omics_imp_scaled)\n",
    "PCs, fig = run_and_plot_pca(omics_imp_scaled, y, METACOL_LABEL, n_components=4)\n",
    "ax = plot_umap(omics_imp_scaled, y, METACOL_LABEL)"
   ]
  },
  {
   "cell_type": "markdown",
   "id": "4561ea09",
   "metadata": {
    "papermill": {
     "duration": 0.013736,
     "end_time": "2024-10-15T08:04:49.209491",
     "exception": false,
     "start_time": "2024-10-15T08:04:49.195755",
     "status": "completed"
    }
   },
   "source": [
    "See change by substracting z-score normalized data from original data."
   ]
  },
  {
   "cell_type": "code",
   "execution_count": null,
   "id": "55f60bfd",
   "metadata": {
    "execution": {
     "iopub.execute_input": "2024-10-15T08:04:49.244773Z",
     "iopub.status.busy": "2024-10-15T08:04:49.244654Z",
     "iopub.status.idle": "2024-10-15T08:04:49.251503Z",
     "shell.execute_reply": "2024-10-15T08:04:49.251265Z"
    },
    "papermill": {
     "duration": 0.026222,
     "end_time": "2024-10-15T08:04:49.252162",
     "exception": false,
     "start_time": "2024-10-15T08:04:49.225940",
     "status": "completed"
    },
    "tags": [
     "hide-input"
    ]
   },
   "outputs": [],
   "source": [
    "omics_imp_scaled - X"
   ]
  },
  {
   "cell_type": "markdown",
   "id": "2ee8262a",
   "metadata": {
    "papermill": {
     "duration": 0.018743,
     "end_time": "2024-10-15T08:04:49.286911",
     "exception": false,
     "start_time": "2024-10-15T08:04:49.268168",
     "status": "completed"
    }
   },
   "source": [
    "## Median Polish Normalization\n",
    "- normalize iteratively features and samples to have zero median."
   ]
  },
  {
   "cell_type": "code",
   "execution_count": null,
   "id": "2399746c",
   "metadata": {
    "execution": {
     "iopub.execute_input": "2024-10-15T08:04:49.317423Z",
     "iopub.status.busy": "2024-10-15T08:04:49.317285Z",
     "iopub.status.idle": "2024-10-15T08:04:55.690087Z",
     "shell.execute_reply": "2024-10-15T08:04:55.689794Z"
    },
    "papermill": {
     "duration": 6.387357,
     "end_time": "2024-10-15T08:04:55.690796",
     "exception": false,
     "start_time": "2024-10-15T08:04:49.303439",
     "status": "completed"
    }
   },
   "outputs": [],
   "source": [
    "%%time\n",
    "X = acore.normalization.normalize_data(omics, \"median_polish\")\n",
    "X"
   ]
  },
  {
   "cell_type": "code",
   "execution_count": null,
   "id": "1590ba59",
   "metadata": {
    "execution": {
     "iopub.execute_input": "2024-10-15T08:04:55.709143Z",
     "iopub.status.busy": "2024-10-15T08:04:55.708888Z",
     "iopub.status.idle": "2024-10-15T08:04:56.813674Z",
     "shell.execute_reply": "2024-10-15T08:04:56.813447Z"
    },
    "papermill": {
     "duration": 1.115201,
     "end_time": "2024-10-15T08:04:56.814328",
     "exception": false,
     "start_time": "2024-10-15T08:04:55.699127",
     "status": "completed"
    },
    "tags": [
     "hide-input"
    ]
   },
   "outputs": [],
   "source": [
    "omics_imp_scaled = median_impute(X)\n",
    "omics_imp_scaled = standard_normalize(omics_imp_scaled)\n",
    "PCs, fig = run_and_plot_pca(omics_imp_scaled, y, METACOL_LABEL, n_components=4)\n",
    "ax = plot_umap(omics_imp_scaled, y, METACOL_LABEL)"
   ]
  },
  {
   "cell_type": "markdown",
   "id": "4aeb5230",
   "metadata": {
    "papermill": {
     "duration": 0.016493,
     "end_time": "2024-10-15T08:04:56.851881",
     "exception": false,
     "start_time": "2024-10-15T08:04:56.835388",
     "status": "completed"
    }
   },
   "source": [
    "See change by substracting median polish normalized data from original data."
   ]
  },
  {
   "cell_type": "code",
   "execution_count": null,
   "id": "cde260b6",
   "metadata": {
    "execution": {
     "iopub.execute_input": "2024-10-15T08:04:56.890848Z",
     "iopub.status.busy": "2024-10-15T08:04:56.890721Z",
     "iopub.status.idle": "2024-10-15T08:04:56.897542Z",
     "shell.execute_reply": "2024-10-15T08:04:56.897336Z"
    },
    "papermill": {
     "duration": 0.026412,
     "end_time": "2024-10-15T08:04:56.898179",
     "exception": false,
     "start_time": "2024-10-15T08:04:56.871767",
     "status": "completed"
    },
    "tags": [
     "hide-input"
    ]
   },
   "outputs": [],
   "source": [
    "omics_imp_scaled - X"
   ]
  },
  {
   "cell_type": "markdown",
   "id": "124f07a6",
   "metadata": {
    "papermill": {
     "duration": 0.016308,
     "end_time": "2024-10-15T08:04:56.933710",
     "exception": false,
     "start_time": "2024-10-15T08:04:56.917402",
     "status": "completed"
    }
   },
   "source": [
    "## Quantile normalization\n",
    "quantile normalize each feature column."
   ]
  },
  {
   "cell_type": "code",
   "execution_count": null,
   "id": "63d1369d",
   "metadata": {
    "execution": {
     "iopub.execute_input": "2024-10-15T08:04:56.972443Z",
     "iopub.status.busy": "2024-10-15T08:04:56.972311Z",
     "iopub.status.idle": "2024-10-15T08:04:57.030334Z",
     "shell.execute_reply": "2024-10-15T08:04:57.030092Z"
    },
    "papermill": {
     "duration": 0.080047,
     "end_time": "2024-10-15T08:04:57.031017",
     "exception": false,
     "start_time": "2024-10-15T08:04:56.950970",
     "status": "completed"
    }
   },
   "outputs": [],
   "source": [
    "%%time\n",
    "X = acore.normalization.normalize_data(omics, \"quantile\")\n",
    "X"
   ]
  },
  {
   "cell_type": "code",
   "execution_count": null,
   "id": "9d4ab4b4",
   "metadata": {
    "execution": {
     "iopub.execute_input": "2024-10-15T08:04:57.069067Z",
     "iopub.status.busy": "2024-10-15T08:04:57.068954Z",
     "iopub.status.idle": "2024-10-15T08:04:58.171381Z",
     "shell.execute_reply": "2024-10-15T08:04:58.171122Z"
    },
    "papermill": {
     "duration": 1.123039,
     "end_time": "2024-10-15T08:04:58.172095",
     "exception": false,
     "start_time": "2024-10-15T08:04:57.049056",
     "status": "completed"
    },
    "tags": [
     "hide-input"
    ]
   },
   "outputs": [],
   "source": [
    "omics_imp_scaled = median_impute(X)\n",
    "omics_imp_scaled = standard_normalize(omics_imp_scaled)\n",
    "PCs, fig = run_and_plot_pca(omics_imp_scaled, y, METACOL_LABEL, n_components=4)\n",
    "ax = plot_umap(omics_imp_scaled, y, METACOL_LABEL)"
   ]
  },
  {
   "cell_type": "code",
   "execution_count": null,
   "id": "6f4cdd86",
   "metadata": {
    "execution": {
     "iopub.execute_input": "2024-10-15T08:04:58.208540Z",
     "iopub.status.busy": "2024-10-15T08:04:58.208426Z",
     "iopub.status.idle": "2024-10-15T08:04:58.215032Z",
     "shell.execute_reply": "2024-10-15T08:04:58.214823Z"
    },
    "lines_to_next_cell": 2,
    "papermill": {
     "duration": 0.024663,
     "end_time": "2024-10-15T08:04:58.215670",
     "exception": false,
     "start_time": "2024-10-15T08:04:58.191007",
     "status": "completed"
    }
   },
   "outputs": [],
   "source": [
    "omics - X"
   ]
  },
  {
   "cell_type": "markdown",
   "id": "b7ed4558",
   "metadata": {
    "papermill": {
     "duration": 0.01982,
     "end_time": "2024-10-15T08:04:58.252241",
     "exception": false,
     "start_time": "2024-10-15T08:04:58.232421",
     "status": "completed"
    }
   },
   "source": [
    "## Linear normalization"
   ]
  },
  {
   "cell_type": "code",
   "execution_count": null,
   "id": "935897ee",
   "metadata": {
    "execution": {
     "iopub.execute_input": "2024-10-15T08:04:58.288909Z",
     "iopub.status.busy": "2024-10-15T08:04:58.288670Z",
     "iopub.status.idle": "2024-10-15T08:04:58.297719Z",
     "shell.execute_reply": "2024-10-15T08:04:58.297460Z"
    },
    "papermill": {
     "duration": 0.028171,
     "end_time": "2024-10-15T08:04:58.298458",
     "exception": false,
     "start_time": "2024-10-15T08:04:58.270287",
     "status": "completed"
    }
   },
   "outputs": [],
   "source": [
    "%%time\n",
    "X = acore.normalization.normalize_data(omics, \"linear\")\n",
    "X"
   ]
  },
  {
   "cell_type": "code",
   "execution_count": null,
   "id": "77df7eba",
   "metadata": {
    "execution": {
     "iopub.execute_input": "2024-10-15T08:04:58.325839Z",
     "iopub.status.busy": "2024-10-15T08:04:58.325704Z",
     "iopub.status.idle": "2024-10-15T08:04:59.300800Z",
     "shell.execute_reply": "2024-10-15T08:04:59.300551Z"
    },
    "papermill": {
     "duration": 0.990256,
     "end_time": "2024-10-15T08:04:59.301515",
     "exception": false,
     "start_time": "2024-10-15T08:04:58.311259",
     "status": "completed"
    },
    "tags": [
     "hide-input"
    ]
   },
   "outputs": [],
   "source": [
    "omics_imp_scaled = median_impute(X)\n",
    "omics_imp_scaled = standard_normalize(omics_imp_scaled)\n",
    "PCs, fig = run_and_plot_pca(omics_imp_scaled, y, METACOL_LABEL, n_components=4)\n",
    "ax = plot_umap(omics_imp_scaled, y, METACOL_LABEL)"
   ]
  },
  {
   "cell_type": "code",
   "execution_count": null,
   "id": "6a588323",
   "metadata": {
    "execution": {
     "iopub.execute_input": "2024-10-15T08:04:59.333399Z",
     "iopub.status.busy": "2024-10-15T08:04:59.333296Z",
     "iopub.status.idle": "2024-10-15T08:04:59.339761Z",
     "shell.execute_reply": "2024-10-15T08:04:59.339557Z"
    },
    "papermill": {
     "duration": 0.028453,
     "end_time": "2024-10-15T08:04:59.340381",
     "exception": false,
     "start_time": "2024-10-15T08:04:59.311928",
     "status": "completed"
    },
    "tags": [
     "hide-input"
    ]
   },
   "outputs": [],
   "source": [
    "omics - X"
   ]
  },
  {
   "cell_type": "markdown",
   "id": "1da30827",
   "metadata": {
    "papermill": {
     "duration": 0.021321,
     "end_time": "2024-10-15T08:04:59.382890",
     "exception": false,
     "start_time": "2024-10-15T08:04:59.361569",
     "status": "completed"
    }
   },
   "source": [
    "## Summmary\n",
    "Besides the median polish normalization, the structure of the data is not changed\n",
    "too much by the normalization using this Alzheimer example. This notebook can be opened\n",
    "on colab and might be a good starting point for investigating the effect of normalization\n",
    "on your data - or to disect some approaches further."
   ]
  }
 ],
 "metadata": {
  "jupytext": {
   "cell_metadata_filter": "tags,-all"
  },
  "kernelspec": {
   "display_name": "Python 3 (ipykernel)",
   "language": "python",
   "name": "python3"
  },
  "language_info": {
   "codemirror_mode": {
    "name": "ipython",
    "version": 3
   },
   "file_extension": ".py",
   "mimetype": "text/x-python",
   "name": "python",
   "nbconvert_exporter": "python",
   "pygments_lexer": "ipython3",
   "version": "3.11.10"
  },
  "papermill": {
   "default_parameters": {},
   "duration": 29.187969,
   "end_time": "2024-10-15T08:05:02.023247",
   "environment_variables": {},
   "exception": null,
   "input_path": "-",
   "output_path": "docs/api_examples/normalization_analysis.ipynb",
   "parameters": {},
   "start_time": "2024-10-15T08:04:32.835278",
   "version": "2.6.0"
  }
 },
 "nbformat": 4,
 "nbformat_minor": 5
}
