{
 "cells": [
  {
   "cell_type": "markdown",
   "id": "e9bdb7c9",
   "metadata": {},
   "source": [
    "# Tutorial: Permutation Testing using `acore`\n",
    "\n",
    "In this notebook we will demonstrate how to use acore's permutation testing functions on metagenomics data collected by [Ju and colleagues (2018)](https://doi.org/10.1038/s41396-018-0277-8).\n",
    "\n",
    "The samples were collected from wastewaster treatment plant inffluent (MGYS00005056) and effluent (MGYS00005058).\n"
   ]
  },
  {
   "cell_type": "markdown",
   "id": "79d8b537",
   "metadata": {
    "vscode": {
     "languageId": "markdown"
    }
   },
   "source": [
    "## Downloading the dataset\n",
    "\n",
    "The analysed samples can be downloaded via the Mgnify API."
   ]
  },
  {
   "cell_type": "code",
   "execution_count": 1,
   "id": "8506ee79",
   "metadata": {},
   "outputs": [
    {
     "name": "stdout",
     "output_type": "stream",
     "text": [
      "Processing https://www.ebi.ac.uk/metagenomics/api/v1/studies/MGYS00005058/pipelines/4.1/file/ERP112696_GO_abundances_v4.1.tsv\n",
      "Processing https://www.ebi.ac.uk/metagenomics/api/v1/studies/MGYS00005056/pipelines/4.1/file/ERP111072_GO_abundances_v4.1.tsv\n"
     ]
    },
    {
     "data": {
      "text/html": [
       "<div>\n",
       "<style scoped>\n",
       "    .dataframe tbody tr th:only-of-type {\n",
       "        vertical-align: middle;\n",
       "    }\n",
       "\n",
       "    .dataframe tbody tr th {\n",
       "        vertical-align: top;\n",
       "    }\n",
       "\n",
       "    .dataframe thead th {\n",
       "        text-align: right;\n",
       "    }\n",
       "</style>\n",
       "<table border=\"1\" class=\"dataframe\">\n",
       "  <thead>\n",
       "    <tr style=\"text-align: right;\">\n",
       "      <th></th>\n",
       "      <th>GO</th>\n",
       "      <th>description</th>\n",
       "      <th>category</th>\n",
       "      <th>ERR2985255</th>\n",
       "      <th>ERR2985256</th>\n",
       "      <th>ERR2985257</th>\n",
       "      <th>ERR2985258</th>\n",
       "      <th>ERR2985259</th>\n",
       "      <th>ERR2985260</th>\n",
       "      <th>ERR2985261</th>\n",
       "      <th>...</th>\n",
       "      <th>ERR2985269</th>\n",
       "      <th>ERR2985270</th>\n",
       "      <th>ERR2985271</th>\n",
       "      <th>ERR2985272</th>\n",
       "      <th>ERR2985273</th>\n",
       "      <th>ERR2985274</th>\n",
       "      <th>ERR2985275</th>\n",
       "      <th>ERR2985276</th>\n",
       "      <th>ERR2985277</th>\n",
       "      <th>ERR2985278</th>\n",
       "    </tr>\n",
       "  </thead>\n",
       "  <tbody>\n",
       "    <tr>\n",
       "      <th>0</th>\n",
       "      <td>GO:0000001</td>\n",
       "      <td>mitochondrion inheritance</td>\n",
       "      <td>biological process</td>\n",
       "      <td>0</td>\n",
       "      <td>0</td>\n",
       "      <td>0</td>\n",
       "      <td>0</td>\n",
       "      <td>0</td>\n",
       "      <td>3</td>\n",
       "      <td>0</td>\n",
       "      <td>...</td>\n",
       "      <td>1</td>\n",
       "      <td>0</td>\n",
       "      <td>1</td>\n",
       "      <td>1</td>\n",
       "      <td>1</td>\n",
       "      <td>2</td>\n",
       "      <td>0</td>\n",
       "      <td>0</td>\n",
       "      <td>2</td>\n",
       "      <td>2</td>\n",
       "    </tr>\n",
       "    <tr>\n",
       "      <th>1</th>\n",
       "      <td>GO:0000002</td>\n",
       "      <td>mitochondrial genome maintenance</td>\n",
       "      <td>biological process</td>\n",
       "      <td>0</td>\n",
       "      <td>9</td>\n",
       "      <td>7</td>\n",
       "      <td>0</td>\n",
       "      <td>2</td>\n",
       "      <td>7</td>\n",
       "      <td>4</td>\n",
       "      <td>...</td>\n",
       "      <td>15</td>\n",
       "      <td>10</td>\n",
       "      <td>0</td>\n",
       "      <td>0</td>\n",
       "      <td>0</td>\n",
       "      <td>5</td>\n",
       "      <td>0</td>\n",
       "      <td>4</td>\n",
       "      <td>11</td>\n",
       "      <td>1</td>\n",
       "    </tr>\n",
       "    <tr>\n",
       "      <th>2</th>\n",
       "      <td>GO:0000012</td>\n",
       "      <td>single strand break repair</td>\n",
       "      <td>biological process</td>\n",
       "      <td>0</td>\n",
       "      <td>3</td>\n",
       "      <td>1</td>\n",
       "      <td>1</td>\n",
       "      <td>0</td>\n",
       "      <td>0</td>\n",
       "      <td>0</td>\n",
       "      <td>...</td>\n",
       "      <td>0</td>\n",
       "      <td>0</td>\n",
       "      <td>1</td>\n",
       "      <td>0</td>\n",
       "      <td>0</td>\n",
       "      <td>2</td>\n",
       "      <td>1</td>\n",
       "      <td>2</td>\n",
       "      <td>1</td>\n",
       "      <td>1</td>\n",
       "    </tr>\n",
       "    <tr>\n",
       "      <th>3</th>\n",
       "      <td>GO:0000015</td>\n",
       "      <td>phosphopyruvate hydratase complex</td>\n",
       "      <td>cellular component</td>\n",
       "      <td>477</td>\n",
       "      <td>384</td>\n",
       "      <td>500</td>\n",
       "      <td>188</td>\n",
       "      <td>226</td>\n",
       "      <td>232</td>\n",
       "      <td>301</td>\n",
       "      <td>...</td>\n",
       "      <td>203</td>\n",
       "      <td>432</td>\n",
       "      <td>152</td>\n",
       "      <td>341</td>\n",
       "      <td>319</td>\n",
       "      <td>520</td>\n",
       "      <td>290</td>\n",
       "      <td>349</td>\n",
       "      <td>270</td>\n",
       "      <td>292</td>\n",
       "    </tr>\n",
       "    <tr>\n",
       "      <th>4</th>\n",
       "      <td>GO:0000030</td>\n",
       "      <td>mannosyltransferase activity</td>\n",
       "      <td>molecular function</td>\n",
       "      <td>189</td>\n",
       "      <td>200</td>\n",
       "      <td>57</td>\n",
       "      <td>67</td>\n",
       "      <td>39</td>\n",
       "      <td>129</td>\n",
       "      <td>181</td>\n",
       "      <td>...</td>\n",
       "      <td>70</td>\n",
       "      <td>42</td>\n",
       "      <td>58</td>\n",
       "      <td>73</td>\n",
       "      <td>92</td>\n",
       "      <td>159</td>\n",
       "      <td>67</td>\n",
       "      <td>179</td>\n",
       "      <td>58</td>\n",
       "      <td>91</td>\n",
       "    </tr>\n",
       "  </tbody>\n",
       "</table>\n",
       "<p>5 rows × 27 columns</p>\n",
       "</div>"
      ],
      "text/plain": [
       "           GO                        description            category  \\\n",
       "0  GO:0000001          mitochondrion inheritance  biological process   \n",
       "1  GO:0000002   mitochondrial genome maintenance  biological process   \n",
       "2  GO:0000012         single strand break repair  biological process   \n",
       "3  GO:0000015  phosphopyruvate hydratase complex  cellular component   \n",
       "4  GO:0000030       mannosyltransferase activity  molecular function   \n",
       "\n",
       "   ERR2985255  ERR2985256  ERR2985257  ERR2985258  ERR2985259  ERR2985260  \\\n",
       "0           0           0           0           0           0           3   \n",
       "1           0           9           7           0           2           7   \n",
       "2           0           3           1           1           0           0   \n",
       "3         477         384         500         188         226         232   \n",
       "4         189         200          57          67          39         129   \n",
       "\n",
       "   ERR2985261  ...  ERR2985269  ERR2985270  ERR2985271  ERR2985272  \\\n",
       "0           0  ...           1           0           1           1   \n",
       "1           4  ...          15          10           0           0   \n",
       "2           0  ...           0           0           1           0   \n",
       "3         301  ...         203         432         152         341   \n",
       "4         181  ...          70          42          58          73   \n",
       "\n",
       "   ERR2985273  ERR2985274  ERR2985275  ERR2985276  ERR2985277  ERR2985278  \n",
       "0           1           2           0           0           2           2  \n",
       "1           0           5           0           4          11           1  \n",
       "2           0           2           1           2           1           1  \n",
       "3         319         520         290         349         270         292  \n",
       "4          92         159          67         179          58          91  \n",
       "\n",
       "[5 rows x 27 columns]"
      ]
     },
     "execution_count": 1,
     "metadata": {},
     "output_type": "execute_result"
    }
   ],
   "source": [
    "import requests \n",
    "from io import StringIO\n",
    "import pandas as pd\n",
    "\n",
    "enf_accession = \"MGYS00005058\"\n",
    "inf_accession = \"MGYS00005056\"\n",
    "\n",
    "enf_url = f'https://www.ebi.ac.uk/metagenomics/api/v1/studies/{enf_accession}/pipelines/4.1/file/ERP112696_GO_abundances_v4.1.tsv'\n",
    "inf_url = f'https://www.ebi.ac.uk/metagenomics/api/v1/studies/{inf_accession}/pipelines/4.1/file/ERP111072_GO_abundances_v4.1.tsv'\n",
    "\n",
    "# init dict to hold dataframes\n",
    "data = {}\n",
    "for url in [enf_url, inf_url]:\n",
    "    print(f\"Processing {url}\")\n",
    "    # download\n",
    "    response = requests.get(url)\n",
    "    if response.status_code == 200:\n",
    "        # treat as file\n",
    "        file_like = StringIO(response.content.decode('utf-8'))\n",
    "        # read into pd df\n",
    "        df = pd.read_csv(file_like, sep='\\t')\n",
    "        # to the dict\n",
    "        data[url] = df\n",
    "    else: \n",
    "        print(response)\n",
    "        print(url, \" download skipped\")\n",
    "\n",
    "# sanity check\n",
    "data[enf_url].head()"
   ]
  },
  {
   "cell_type": "code",
   "execution_count": 4,
   "id": "84364bf5",
   "metadata": {},
   "outputs": [],
   "source": [
    "# preprocessing\n",
    "from sklearn.preprocessing import FunctionTransformer\n",
    "import numpy as np\n",
    "from sklearn.pipeline import make_pipeline\n",
    "\n",
    "coda = FunctionTransformer(lambda x: x / x.sum(axis=0), feature_names_out=\"one-to-one\").set_output(transform=\"pandas\")\n",
    "\n",
    "def calc_clr(x):\n",
    "    # replace zeros with small \n",
    "    new_x = np.where(x > 0, x, 1e-10)\n",
    "    return np.log(new_x) - np.mean(np.log(new_x), axis=0)\n",
    "\n",
    "clr = FunctionTransformer(calc_clr, feature_names_out=\"one-to-one\").set_output(transform=\"pandas\")\n",
    "\n",
    "def coda_clr(df):\n",
    "    pipe = make_pipeline(coda, clr).set_output(transform=\"pandas\")\n",
    "    transformed = pipe.fit_transform(df.select_dtypes(include='number'))\n",
    "    return pd.concat([df.select_dtypes(include='object'), transformed], axis=1)\n",
    "\n",
    "clr_enf = coda_clr(data[enf_url])\n",
    "clr_inf = coda_clr(data[inf_url])"
   ]
  },
  {
   "cell_type": "markdown",
   "id": "a9fa25c4",
   "metadata": {},
   "source": [
    "For this demo we will only look at [go term GO:0017001](https://www.ebi.ac.uk/QuickGO/term/GO:0017001)\n",
    "\n",
    "It's expected that antibiotic catabolic processes to be higher in influent vs efluent"
   ]
  },
  {
   "cell_type": "code",
   "execution_count": 5,
   "id": "0259a24f",
   "metadata": {},
   "outputs": [],
   "source": [
    "term = 'GO:0017001'\n",
    "\n",
    "inf_go = clr_inf.query(\"GO == @term\").drop(columns=['GO', 'description', 'category']).T.reset_index()\n",
    "enf_go = clr_enf.query(\"GO == @term\").drop(columns=['GO', 'description', 'category']).T.reset_index()\n",
    "\n",
    "inf_go.columns = ['sample', 'abundance']\n",
    "enf_go.columns = ['sample', 'abundance']"
   ]
  },
  {
   "cell_type": "markdown",
   "id": "13469e23",
   "metadata": {},
   "source": [
    "The samples are paired. We need the metadata for the samples which we can also download using the MGnify API."
   ]
  },
  {
   "cell_type": "code",
   "execution_count": 6,
   "id": "a7eb5848",
   "metadata": {},
   "outputs": [
    {
     "name": "stdout",
     "output_type": "stream",
     "text": [
      "Processing MGYS00005058\n",
      "Processing MGYS00005056\n"
     ]
    }
   ],
   "source": [
    "# getting sampling and analysis metadata\n",
    "metadata = {}\n",
    "for accession in [enf_accession, inf_accession]:\n",
    "    # prep urls\n",
    "    url_sam = f'https://www.ebi.ac.uk/metagenomics/api/v1/studies/{accession}/samples'\n",
    "    url_ana = f\"https://www.ebi.ac.uk/metagenomics/api/v1/analyses?study_accession={accession}\"\n",
    "\n",
    "    print(f\"Processing {accession}\")\n",
    "    # download\n",
    "    sam_response = requests.get(url_sam)\n",
    "    if sam_response.status_code == 200:\n",
    "        # json\n",
    "        df_sam = pd.DataFrame(sam_response.json()['data'])\n",
    "        # extract needed metadata\n",
    "        df_sam['desc'] = df_sam['attributes'].apply(lambda x: x['sample-desc'])\n",
    "        df_sam['sam_source'] = df_sam['desc'].str.split('.', expand=True)[0]\n",
    "        df_sam['sam_read'] = df_sam['desc'].str.split('.', expand=True)[2]\n",
    "    else: \n",
    "        raise Exception(f\"Failed to download {url_sam}\")\n",
    "        print(sam_response)\n",
    "    ana_response = requests.get(url_ana)\n",
    "    if ana_response.status_code == 200:\n",
    "        # json\n",
    "        df_ana = pd.DataFrame(ana_response.json()['data'])\n",
    "        # extract needed metadata\n",
    "        df_ana['run_id'] = df_ana['relationships'].apply(lambda x: x['run']['data']['id'])\n",
    "        df_ana['sample_id'] = df_ana['relationships'].apply(lambda x: x['sample']['data']['id'])\n",
    "    else: \n",
    "        raise Exception(f\"Failed to download {url_ana}\")\n",
    "        print(ana_response)\n",
    "    # merge\n",
    "    metadata[accession] = df_ana.merge(df_sam[['id', 'desc', 'sam_source', 'sam_read']], left_on='sample_id', right_on='id', how='left')\n"
   ]
  },
  {
   "cell_type": "code",
   "execution_count": 7,
   "id": "487cd4da",
   "metadata": {},
   "outputs": [
    {
     "data": {
      "text/plain": [
       "((24, 13), (24, 13))"
      ]
     },
     "execution_count": 7,
     "metadata": {},
     "output_type": "execute_result"
    }
   ],
   "source": [
    "enf_all = metadata[enf_accession].merge(enf_go, left_on='run_id', right_on='sample', how='inner')\n",
    "inf_all = metadata[inf_accession].merge(inf_go, left_on='run_id', right_on='sample', how='inner')\n",
    "# sanity check\n",
    "enf_all.shape, inf_all.shape"
   ]
  },
  {
   "cell_type": "code",
   "execution_count": null,
   "id": "66056854",
   "metadata": {},
   "outputs": [],
   "source": [
    "# pairing \n",
    "df_data = enf_all.merge(\n",
    "    inf_all,\n",
    "    on=['sam_source', 'sam_read'], suffixes=('_enf', '_inf')\n",
    ")[['run_id_enf', 'run_id_inf', 'sam_source', 'sam_read', 'abundance_enf', 'abundance_inf']]\n",
    "\n",
    "df_data.to_csv('/Users/anglup/GitHub/acore/example_data/mgnify/Ju2018_GO0017001_enf_inf_paired.csv', index=False)"
   ]
  },
  {
   "cell_type": "code",
   "execution_count": 134,
   "id": "5eefb720",
   "metadata": {},
   "outputs": [],
   "source": [
    "from acore.permutation_test import paired_permutation\n",
    "\n",
    "# optional for reproducibility\n",
    "import numpy as np\n",
    "rng = np.random.default_rng(12345)"
   ]
  },
  {
   "cell_type": "code",
   "execution_count": 135,
   "id": "9eabb911",
   "metadata": {},
   "outputs": [
    {
     "name": "stdout",
     "output_type": "stream",
     "text": [
      "{'metric': <function ttest_rel at 0x115df23e0>, 'observed': TtestResult(statistic=np.float64(6.7389860601792275), pvalue=np.float64(7.122287781830209e-07), df=np.int64(23)), 'p_value': np.float64(0.0)}\n",
      "{'metric': <function mean at 0x130d17df0>, 'observed': np.float64(0.5350826397500547), 'p_value': np.float64(0.0)}\n",
      "{'metric': <function mean at 0x130d17df0>, 'observed': np.float64(0.5350826397500547), 'p_value': np.float64(0.0)}\n"
     ]
    }
   ],
   "source": [
    "for metric in ['t-statistic', 'mean', np.mean]:\n",
    "    result = paired_permutation(\n",
    "        df_data['abundance_inf'].to_numpy(),\n",
    "        df_data['abundance_enf'].to_numpy(), \n",
    "        metric=metric, \n",
    "        n_permutations=10000, \n",
    "        rng=rng\n",
    "    )\n",
    "\n",
    "    print(result)"
   ]
  },
  {
   "cell_type": "code",
   "execution_count": null,
   "id": "9da7d601",
   "metadata": {},
   "outputs": [],
   "source": []
  }
 ],
 "metadata": {
  "kernelspec": {
   "display_name": ".venv",
   "language": "python",
   "name": "python3"
  },
  "language_info": {
   "codemirror_mode": {
    "name": "ipython",
    "version": 3
   },
   "file_extension": ".py",
   "mimetype": "text/x-python",
   "name": "python",
   "nbconvert_exporter": "python",
   "pygments_lexer": "ipython3",
   "version": "3.11.0"
  }
 },
 "nbformat": 4,
 "nbformat_minor": 5
}
