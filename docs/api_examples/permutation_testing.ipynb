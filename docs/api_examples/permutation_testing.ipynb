{
 "cells": [
  {
   "cell_type": "markdown",
   "id": "e9bdb7c9",
   "metadata": {},
   "source": [
    "# Tutorial: Permutation Testing using `acore`\n",
    "\n",
    "In this notebook we will demonstrate how to use acore's permutation testing functions on metagenomics data collected by [Ju and colleagues (2018)](https://doi.org/10.1038/s41396-018-0277-8).\n",
    "\n",
    "The samples were collected from wastewaster treatment plant inffluent and effluent."
   ]
  },
  {
   "cell_type": "markdown",
   "id": "79d8b537",
   "metadata": {
    "vscode": {
     "languageId": "markdown"
    }
   },
   "source": [
    "## Downloading the dataset\n",
    "\n",
    "The analysed samples can be downloaded via the Mgnify API."
   ]
  },
  {
   "cell_type": "code",
   "execution_count": 5,
   "id": "8506ee79",
   "metadata": {},
   "outputs": [
    {
     "name": "stdout",
     "output_type": "stream",
     "text": [
      "Processing https://www.ebi.ac.uk/metagenomics/api/v1/studies/MGYS00005058/pipelines/4.1/file/ERP112696_GO_abundances_v4.1.tsv\n",
      "Processing https://www.ebi.ac.uk/metagenomics/api/v1/studies/MGYS00005056/pipelines/4.1/file/ERP111072_GO_abundances_v4.1.tsv\n"
     ]
    },
    {
     "data": {
      "text/html": [
       "<div>\n",
       "<style scoped>\n",
       "    .dataframe tbody tr th:only-of-type {\n",
       "        vertical-align: middle;\n",
       "    }\n",
       "\n",
       "    .dataframe tbody tr th {\n",
       "        vertical-align: top;\n",
       "    }\n",
       "\n",
       "    .dataframe thead th {\n",
       "        text-align: right;\n",
       "    }\n",
       "</style>\n",
       "<table border=\"1\" class=\"dataframe\">\n",
       "  <thead>\n",
       "    <tr style=\"text-align: right;\">\n",
       "      <th></th>\n",
       "      <th>GO</th>\n",
       "      <th>description</th>\n",
       "      <th>category</th>\n",
       "      <th>ERR2985255</th>\n",
       "      <th>ERR2985256</th>\n",
       "      <th>ERR2985257</th>\n",
       "      <th>ERR2985258</th>\n",
       "      <th>ERR2985259</th>\n",
       "      <th>ERR2985260</th>\n",
       "      <th>ERR2985261</th>\n",
       "      <th>...</th>\n",
       "      <th>ERR2985269</th>\n",
       "      <th>ERR2985270</th>\n",
       "      <th>ERR2985271</th>\n",
       "      <th>ERR2985272</th>\n",
       "      <th>ERR2985273</th>\n",
       "      <th>ERR2985274</th>\n",
       "      <th>ERR2985275</th>\n",
       "      <th>ERR2985276</th>\n",
       "      <th>ERR2985277</th>\n",
       "      <th>ERR2985278</th>\n",
       "    </tr>\n",
       "  </thead>\n",
       "  <tbody>\n",
       "    <tr>\n",
       "      <th>0</th>\n",
       "      <td>GO:0000001</td>\n",
       "      <td>mitochondrion inheritance</td>\n",
       "      <td>biological process</td>\n",
       "      <td>0</td>\n",
       "      <td>0</td>\n",
       "      <td>0</td>\n",
       "      <td>0</td>\n",
       "      <td>0</td>\n",
       "      <td>3</td>\n",
       "      <td>0</td>\n",
       "      <td>...</td>\n",
       "      <td>1</td>\n",
       "      <td>0</td>\n",
       "      <td>1</td>\n",
       "      <td>1</td>\n",
       "      <td>1</td>\n",
       "      <td>2</td>\n",
       "      <td>0</td>\n",
       "      <td>0</td>\n",
       "      <td>2</td>\n",
       "      <td>2</td>\n",
       "    </tr>\n",
       "    <tr>\n",
       "      <th>1</th>\n",
       "      <td>GO:0000002</td>\n",
       "      <td>mitochondrial genome maintenance</td>\n",
       "      <td>biological process</td>\n",
       "      <td>0</td>\n",
       "      <td>9</td>\n",
       "      <td>7</td>\n",
       "      <td>0</td>\n",
       "      <td>2</td>\n",
       "      <td>7</td>\n",
       "      <td>4</td>\n",
       "      <td>...</td>\n",
       "      <td>15</td>\n",
       "      <td>10</td>\n",
       "      <td>0</td>\n",
       "      <td>0</td>\n",
       "      <td>0</td>\n",
       "      <td>5</td>\n",
       "      <td>0</td>\n",
       "      <td>4</td>\n",
       "      <td>11</td>\n",
       "      <td>1</td>\n",
       "    </tr>\n",
       "    <tr>\n",
       "      <th>2</th>\n",
       "      <td>GO:0000012</td>\n",
       "      <td>single strand break repair</td>\n",
       "      <td>biological process</td>\n",
       "      <td>0</td>\n",
       "      <td>3</td>\n",
       "      <td>1</td>\n",
       "      <td>1</td>\n",
       "      <td>0</td>\n",
       "      <td>0</td>\n",
       "      <td>0</td>\n",
       "      <td>...</td>\n",
       "      <td>0</td>\n",
       "      <td>0</td>\n",
       "      <td>1</td>\n",
       "      <td>0</td>\n",
       "      <td>0</td>\n",
       "      <td>2</td>\n",
       "      <td>1</td>\n",
       "      <td>2</td>\n",
       "      <td>1</td>\n",
       "      <td>1</td>\n",
       "    </tr>\n",
       "    <tr>\n",
       "      <th>3</th>\n",
       "      <td>GO:0000015</td>\n",
       "      <td>phosphopyruvate hydratase complex</td>\n",
       "      <td>cellular component</td>\n",
       "      <td>477</td>\n",
       "      <td>384</td>\n",
       "      <td>500</td>\n",
       "      <td>188</td>\n",
       "      <td>226</td>\n",
       "      <td>232</td>\n",
       "      <td>301</td>\n",
       "      <td>...</td>\n",
       "      <td>203</td>\n",
       "      <td>432</td>\n",
       "      <td>152</td>\n",
       "      <td>341</td>\n",
       "      <td>319</td>\n",
       "      <td>520</td>\n",
       "      <td>290</td>\n",
       "      <td>349</td>\n",
       "      <td>270</td>\n",
       "      <td>292</td>\n",
       "    </tr>\n",
       "    <tr>\n",
       "      <th>4</th>\n",
       "      <td>GO:0000030</td>\n",
       "      <td>mannosyltransferase activity</td>\n",
       "      <td>molecular function</td>\n",
       "      <td>189</td>\n",
       "      <td>200</td>\n",
       "      <td>57</td>\n",
       "      <td>67</td>\n",
       "      <td>39</td>\n",
       "      <td>129</td>\n",
       "      <td>181</td>\n",
       "      <td>...</td>\n",
       "      <td>70</td>\n",
       "      <td>42</td>\n",
       "      <td>58</td>\n",
       "      <td>73</td>\n",
       "      <td>92</td>\n",
       "      <td>159</td>\n",
       "      <td>67</td>\n",
       "      <td>179</td>\n",
       "      <td>58</td>\n",
       "      <td>91</td>\n",
       "    </tr>\n",
       "  </tbody>\n",
       "</table>\n",
       "<p>5 rows × 27 columns</p>\n",
       "</div>"
      ],
      "text/plain": [
       "           GO                        description            category  \\\n",
       "0  GO:0000001          mitochondrion inheritance  biological process   \n",
       "1  GO:0000002   mitochondrial genome maintenance  biological process   \n",
       "2  GO:0000012         single strand break repair  biological process   \n",
       "3  GO:0000015  phosphopyruvate hydratase complex  cellular component   \n",
       "4  GO:0000030       mannosyltransferase activity  molecular function   \n",
       "\n",
       "   ERR2985255  ERR2985256  ERR2985257  ERR2985258  ERR2985259  ERR2985260  \\\n",
       "0           0           0           0           0           0           3   \n",
       "1           0           9           7           0           2           7   \n",
       "2           0           3           1           1           0           0   \n",
       "3         477         384         500         188         226         232   \n",
       "4         189         200          57          67          39         129   \n",
       "\n",
       "   ERR2985261  ...  ERR2985269  ERR2985270  ERR2985271  ERR2985272  \\\n",
       "0           0  ...           1           0           1           1   \n",
       "1           4  ...          15          10           0           0   \n",
       "2           0  ...           0           0           1           0   \n",
       "3         301  ...         203         432         152         341   \n",
       "4         181  ...          70          42          58          73   \n",
       "\n",
       "   ERR2985273  ERR2985274  ERR2985275  ERR2985276  ERR2985277  ERR2985278  \n",
       "0           1           2           0           0           2           2  \n",
       "1           0           5           0           4          11           1  \n",
       "2           0           2           1           2           1           1  \n",
       "3         319         520         290         349         270         292  \n",
       "4          92         159          67         179          58          91  \n",
       "\n",
       "[5 rows x 27 columns]"
      ]
     },
     "execution_count": 5,
     "metadata": {},
     "output_type": "execute_result"
    }
   ],
   "source": [
    "import requests \n",
    "from io import StringIO\n",
    "import pandas as pd\n",
    "\n",
    "enf_url = 'https://www.ebi.ac.uk/metagenomics/api/v1/studies/MGYS00005058/pipelines/4.1/file/ERP112696_GO_abundances_v4.1.tsv'\n",
    "inf_url = 'https://www.ebi.ac.uk/metagenomics/api/v1/studies/MGYS00005056/pipelines/4.1/file/ERP111072_GO_abundances_v4.1.tsv'\n",
    "\n",
    "# init dict to hold dataframes\n",
    "data = {}\n",
    "for url in [enf_url, inf_url]:\n",
    "    print(f\"Processing {url}\")\n",
    "    # download\n",
    "    response = requests.get(url)\n",
    "    if response.status_code == 200:\n",
    "        # treat as file\n",
    "        file_like = StringIO(response.content.decode('utf-8'))\n",
    "        # read into pd df\n",
    "        df = pd.read_csv(file_like, sep='\\t')\n",
    "        # to the dict\n",
    "        data[url] = df\n",
    "    else: \n",
    "        print(response)\n",
    "        print(url, \" download skipped\")\n",
    "\n",
    "# sanity check\n",
    "data[enf_url].head()"
   ]
  },
  {
   "cell_type": "markdown",
   "id": "a9fa25c4",
   "metadata": {},
   "source": [
    "For this demo we will only look at [go term 0030655](https://gowiki.tamu.edu/wiki/index.php/Category:GO:0030655_!_beta-lactam_antibiotic_catabolic_process)"
   ]
  },
  {
   "cell_type": "code",
   "execution_count": 21,
   "id": "0259a24f",
   "metadata": {},
   "outputs": [
    {
     "data": {
      "text/plain": [
       "(array([ 54, 101,  69,  52,  61,  68, 401,  72,  67,  80,  87,  49,  63,\n",
       "         53, 345, 131,  67,  69,  42,  67, 107, 126,  63,  94]),\n",
       " array([  23,   87, 1026,   63,  311,   47,   71,  121,  109,  334,   40,\n",
       "         111,  111,   31,   21,  919,   58,   95,   98,  120,   96,   84,\n",
       "          26,   89]))"
      ]
     },
     "execution_count": 21,
     "metadata": {},
     "output_type": "execute_result"
    }
   ],
   "source": [
    "term = 'GO:0030655'\n",
    "\n",
    "inf_go = data[inf_url].query(\"GO == @term\").drop(columns=['GO', 'description', 'category']).to_numpy()[0]\n",
    "enf_go = data[enf_url].query(\"GO == @term\").drop(columns=['GO', 'description', 'category']).to_numpy()[0]\n",
    "\n",
    "inf_go, enf_go"
   ]
  },
  {
   "cell_type": "markdown",
   "id": "13469e23",
   "metadata": {},
   "source": [
    "get metadata"
   ]
  },
  {
   "cell_type": "code",
   "execution_count": 29,
   "id": "5eefb720",
   "metadata": {},
   "outputs": [],
   "source": [
    "from acore.permutation_test import paired_permutation\n",
    "\n",
    "# optional for reproducibility\n",
    "import numpy as np\n",
    "rng = np.random.default_rng(12345)"
   ]
  },
  {
   "cell_type": "code",
   "execution_count": 31,
   "id": "9eabb911",
   "metadata": {},
   "outputs": [
    {
     "data": {
      "text/plain": [
       "{'metric': <function mean at 0x130d17df0>,\n",
       " 'observed': np.float64(-70.95833333333333),\n",
       " 'p_value': np.float64(0.2664)}"
      ]
     },
     "execution_count": 31,
     "metadata": {},
     "output_type": "execute_result"
    }
   ],
   "source": [
    "result = paired_permutation(inf_go, enf_go, metric='mean', n_permutations=10000, rng=rng)\n",
    "\n",
    "result"
   ]
  }
 ],
 "metadata": {
  "kernelspec": {
   "display_name": ".venv",
   "language": "python",
   "name": "python3"
  },
  "language_info": {
   "codemirror_mode": {
    "name": "ipython",
    "version": 3
   },
   "file_extension": ".py",
   "mimetype": "text/x-python",
   "name": "python",
   "nbconvert_exporter": "python",
   "pygments_lexer": "ipython3",
   "version": "3.11.0"
  }
 },
 "nbformat": 4,
 "nbformat_minor": 5
}
