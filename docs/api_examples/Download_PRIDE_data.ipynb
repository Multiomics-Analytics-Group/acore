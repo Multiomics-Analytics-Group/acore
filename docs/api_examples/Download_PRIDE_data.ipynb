{
 "cells": [
  {
   "cell_type": "markdown",
   "metadata": {},
   "source": [
    "# Download and Process PRIDE Data\n",
    "This notebook shows how `acore` can be used to download data from\n",
    "the Proteomics Identifications Database - PRIDE -\n",
    "([ebi.ac.uk/pride/](https://www.ebi.ac.uk/pride/))\n",
    "and parse the data to be used in the analytics core.\n",
    "and quickly formated to start analyzing them with the functionality in the analytics core.\n",
    "\n",
    "> based on CKG recipe: [Download PRIDE Data](https://ckg.readthedocs.io/en/latest/notebooks/recipes/Download_PRIDE_data.html)"
   ]
  },
  {
   "cell_type": "code",
   "execution_count": 2,
   "metadata": {},
   "outputs": [],
   "source": [
    "from pathlib import Path\n",
    "\n",
    "import numpy as np\n",
    "import pandas as pd\n",
    "\n",
    "import acore.io"
   ]
  },
  {
   "cell_type": "markdown",
   "metadata": {},
   "source": [
    "## Parameters\n",
    "Specify the PRIDE identifier and file to be downloaded\n",
    "- and where to store intermediate files."
   ]
  },
  {
   "cell_type": "code",
   "execution_count": 3,
   "metadata": {
    "tags": [
     "parameters"
    ]
   },
   "outputs": [],
   "source": [
    "pxd_id: str = \"PXD008541\"  # PRIDE identifier\n",
    "fname = \"SearchEngineResults_secretome.zip.rar\"  # file to download\n",
    "folder_downloads = Path(\"downloaded\")  # folder to download the file\n",
    "folder_unzipped = Path(\"unzipped\")  # folder to uncompress the file"
   ]
  },
  {
   "cell_type": "markdown",
   "metadata": {},
   "source": [
    "## Specify the PRIDE identifier and file to be downloaded"
   ]
  },
  {
   "cell_type": "markdown",
   "id": "15a960da",
   "metadata": {},
   "source": [
    "## Download data\n",
    "\n",
    "We can use functionality in `acore` to directly download data files from EBI's\n",
    "PRIDE database [ebi.ac.uk/pride/](https://www.ebi.ac.uk/pride/).\n",
    "For that you just need to specify the\n",
    "PRIDE identifier for the project (`PXD_...`) and the name of the file to download.\n",
    "In this case, the project identifier is `PXD008541` and the file we will use\n",
    "is `SearchEngineResults_secretome.zip.rar`,\n",
    "a RAR compressed file with the output files from MaxQuant."
   ]
  },
  {
   "cell_type": "code",
   "execution_count": 5,
   "metadata": {},
   "outputs": [],
   "source": [
    "ret = acore.io.download_PRIDE_data(pxd_id=pxd_id, file_name=fname, to=folder_downloads)\n",
    "ret[\"acore_downloaded_file\"]  # folder_downloads / fname"
   ]
  },
  {
   "cell_type": "markdown",
   "metadata": {
    "title": "d"
   },
   "source": [
    "## Read Data In"
   ]
  },
  {
   "cell_type": "markdown",
   "metadata": {},
   "source": [
    "### Decompress File"
   ]
  },
  {
   "cell_type": "code",
   "execution_count": 5,
   "metadata": {},
   "outputs": [],
   "source": [
    "! you need a system installation of a rar archive tool\n",
    "acore.io.unrar(filepath=ret[\"acore_downloaded_file\"], to=folder_unzipped)"
   ]
  },
  {
   "cell_type": "markdown",
   "metadata": {},
   "source": [
    "The list of files within the compressed folder"
   ]
  },
  {
   "cell_type": "code",
   "execution_count": null,
   "metadata": {},
   "outputs": [],
   "source": [
    "list(folder_unzipped.iterdir())"
   ]
  },
  {
   "cell_type": "markdown",
   "metadata": {},
   "source": [
    "We use the proteinGroups file that contains the proteomics data processed\n",
    "using MaxQuant software."
   ]
  },
  {
   "cell_type": "code",
   "execution_count": 7,
   "metadata": {},
   "outputs": [],
   "source": [
    "proteinGroups_file = folder_unzipped / \"proteinGroups.txt\""
   ]
  },
  {
   "cell_type": "code",
   "execution_count": null,
   "id": "979320c0",
   "metadata": {},
   "outputs": [],
   "source": [
    "index_cols = [\n",
    "    \"Majority protein IDs\",\n",
    "]\n",
    "pgs = pd.read_csv(proteinGroups_file, index_col=index_cols, sep=\"\\t\")\n",
    "pgs.sample(5)"
   ]
  },
  {
   "cell_type": "markdown",
   "metadata": {},
   "source": [
    "Get ride of potential contaminants, reverse (decoys) and identified only by a\n",
    "modification site\n",
    "reference:\n",
    "[cox-labs.github.io/coxdocs/output_tables.html#protein-groups](https://cox-labs.github.io/coxdocs/output_tables.html#protein-groups)"
   ]
  },
  {
   "cell_type": "code",
   "execution_count": 8,
   "metadata": {
    "scrolled": false
   },
   "outputs": [],
   "source": [
    "filters = [\"Reverse\", \"Only identified by site\", \"Contaminant\"]\n",
    "pgs[filters].describe()"
   ]
  },
  {
   "cell_type": "code",
   "execution_count": 9,
   "metadata": {},
   "outputs": [],
   "source": [
    "mask = pgs[filters].isna().all(axis=1)\n",
    "pgs = pgs.loc[mask]\n",
    "pgs"
   ]
  },
  {
   "cell_type": "markdown",
   "id": "782ff8a4",
   "metadata": {},
   "source": [
    "Then we can filter the columns that contain the string `LFQ intensity`. The sample names\n",
    "are part of the column names (here: `LFQ intensity {sample_name}`)"
   ]
  },
  {
   "cell_type": "code",
   "execution_count": 10,
   "metadata": {},
   "outputs": [],
   "source": [
    "stub_intensity = \"LFQ intensity\"\n",
    "pgs = pgs.filter(like=stub_intensity)\n",
    "pgs"
   ]
  },
  {
   "cell_type": "markdown",
   "id": "3484db75",
   "metadata": {},
   "source": [
    "No we can get rid of the common part `LFQ intensity` and keep only the sample names"
   ]
  },
  {
   "cell_type": "code",
   "execution_count": null,
   "metadata": {},
   "outputs": [],
   "source": [
    "pgs.columns = pgs.columns.str.replace(stub_intensity, \"\").str.strip()\n",
    "pgs.columns.name = \"sample\"\n",
    "pgs"
   ]
  },
  {
   "cell_type": "markdown",
   "metadata": {},
   "source": [
    "The group could be defined in a sample metadata file, but here we just parse it from the\n",
    "sample names omitting the numbers at the end of the sample name."
   ]
  },
  {
   "cell_type": "code",
   "execution_count": null,
   "metadata": {
    "lines_to_next_cell": 2
   },
   "outputs": [],
   "source": [
    "pgs.columns.str.replace(r\"\\d\", \"\", regex=True)"
   ]
  },
  {
   "cell_type": "markdown",
   "id": "723b3429",
   "metadata": {},
   "source": [
    "We add to the information as a MultiIndex of group and sample name to the columns\n",
    "(sample metadata)\n",
    "pgs.columns = pd.MultiIndex.from_arrays(\n",
    "    [pgs.columns.str.replace(r\"\\d\", \"\", regex=True), pgs.columns],\n",
    "    names=[\"group\", pgs.columns.name],\n",
    ")\n",
    "pgs"
   ]
  },
  {
   "cell_type": "markdown",
   "id": "89a2cadc",
   "metadata": {},
   "source": [
    "From here we can stack both levels, name the values intensity. If we reset the index we\n",
    "get the original CKG format."
   ]
  },
  {
   "cell_type": "code",
   "execution_count": null,
   "metadata": {},
   "outputs": [],
   "source": [
    "pgs = pgs.stack([0, 1]).to_frame(\"intensity\")\n",
    "pgs"
   ]
  },
  {
   "cell_type": "markdown",
   "id": "a86f283f",
   "metadata": {},
   "source": [
    "First we  `log2` transform the data. We first set the zeros to `np.nan` to avoid\n",
    "`-inf` values."
   ]
  },
  {
   "cell_type": "code",
   "execution_count": 14,
   "metadata": {},
   "outputs": [],
   "source": [
    "pgs = np.log2(pgs.replace(0.0, np.nan).dropna())\n",
    "pgs"
   ]
  },
  {
   "cell_type": "code",
   "execution_count": null,
   "metadata": {},
   "outputs": [],
   "source": [
    "pgs.reset_index()"
   ]
  },
  {
   "cell_type": "markdown",
   "id": "1e5d933f",
   "metadata": {},
   "source": [
    "Data to be saved in the CKG format."
   ]
  }
 ],
 "metadata": {
  "kernelspec": {
   "display_name": "Python 3",
   "language": "python",
   "name": "python3"
  },
  "language_info": {
   "codemirror_mode": {
    "name": "ipython",
    "version": 3
   },
   "file_extension": ".py",
   "mimetype": "text/x-python",
   "name": "python",
   "nbconvert_exporter": "python",
   "pygments_lexer": "ipython3",
   "version": "3.7.9"
  }
 },
 "nbformat": 4,
 "nbformat_minor": 2
}
